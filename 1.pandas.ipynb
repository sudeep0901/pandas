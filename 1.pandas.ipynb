{
 "cells": [
  {
   "cell_type": "code",
   "execution_count": 2,
   "metadata": {},
   "outputs": [],
   "source": [
    "import pandas as pd\n",
    "import numpy as np"
   ]
  },
  {
   "cell_type": "code",
   "execution_count": 3,
   "metadata": {},
   "outputs": [
    {
     "data": {
      "text/html": [
       "<div>\n",
       "<style scoped>\n",
       "    .dataframe tbody tr th:only-of-type {\n",
       "        vertical-align: middle;\n",
       "    }\n",
       "\n",
       "    .dataframe tbody tr th {\n",
       "        vertical-align: top;\n",
       "    }\n",
       "\n",
       "    .dataframe thead th {\n",
       "        text-align: right;\n",
       "    }\n",
       "</style>\n",
       "<table border=\"1\" class=\"dataframe\">\n",
       "  <thead>\n",
       "    <tr style=\"text-align: right;\">\n",
       "      <th></th>\n",
       "      <th>col1</th>\n",
       "      <th>col2</th>\n",
       "    </tr>\n",
       "  </thead>\n",
       "  <tbody>\n",
       "    <tr>\n",
       "      <th>0</th>\n",
       "      <td>1</td>\n",
       "      <td>3</td>\n",
       "    </tr>\n",
       "    <tr>\n",
       "      <th>1</th>\n",
       "      <td>2</td>\n",
       "      <td>4</td>\n",
       "    </tr>\n",
       "  </tbody>\n",
       "</table>\n",
       "</div>"
      ],
      "text/plain": [
       "   col1  col2\n",
       "0     1     3\n",
       "1     2     4"
      ]
     },
     "execution_count": 3,
     "metadata": {},
     "output_type": "execute_result"
    }
   ],
   "source": [
    "d = {\n",
    "    'col1': [1, 2],\n",
    "    'col2': [3,4]\n",
    "}\n",
    "\n",
    "df = pd.DataFrame(data =d )\n",
    "df"
   ]
  },
  {
   "cell_type": "code",
   "execution_count": 4,
   "metadata": {},
   "outputs": [
    {
     "data": {
      "text/plain": [
       "col1    1\n",
       "col2    3\n",
       "Name: 0, dtype: int64"
      ]
     },
     "execution_count": 4,
     "metadata": {},
     "output_type": "execute_result"
    }
   ],
   "source": [
    "df.iloc[0]"
   ]
  },
  {
   "cell_type": "code",
   "execution_count": 5,
   "metadata": {},
   "outputs": [
    {
     "data": {
      "text/plain": [
       "col1    1\n",
       "col2    3\n",
       "Name: 0, dtype: int64"
      ]
     },
     "execution_count": 5,
     "metadata": {},
     "output_type": "execute_result"
    }
   ],
   "source": [
    "df.loc[0]"
   ]
  },
  {
   "cell_type": "code",
   "execution_count": 6,
   "metadata": {},
   "outputs": [
    {
     "data": {
      "text/plain": [
       "0    1\n",
       "1    2\n",
       "Name: col1, dtype: int64"
      ]
     },
     "execution_count": 6,
     "metadata": {},
     "output_type": "execute_result"
    }
   ],
   "source": [
    "df['col1']"
   ]
  },
  {
   "cell_type": "code",
   "execution_count": 7,
   "metadata": {},
   "outputs": [
    {
     "data": {
      "text/plain": [
       "0    3\n",
       "1    4\n",
       "Name: col2, dtype: int64"
      ]
     },
     "execution_count": 7,
     "metadata": {},
     "output_type": "execute_result"
    }
   ],
   "source": [
    "df['col2']"
   ]
  },
  {
   "cell_type": "code",
   "execution_count": 8,
   "metadata": {},
   "outputs": [
    {
     "data": {
      "text/plain": [
       "col1    int64\n",
       "col2    int64\n",
       "dtype: object"
      ]
     },
     "execution_count": 8,
     "metadata": {},
     "output_type": "execute_result"
    }
   ],
   "source": [
    "df.dtypes"
   ]
  },
  {
   "cell_type": "code",
   "execution_count": 9,
   "metadata": {},
   "outputs": [],
   "source": [
    "df = pd.DataFrame(data=d ,dtype=np.int8)"
   ]
  },
  {
   "cell_type": "code",
   "execution_count": 10,
   "metadata": {},
   "outputs": [
    {
     "data": {
      "text/plain": [
       "col1    int8\n",
       "col2    int8\n",
       "dtype: object"
      ]
     },
     "execution_count": 10,
     "metadata": {},
     "output_type": "execute_result"
    }
   ],
   "source": [
    "df.dtypes"
   ]
  },
  {
   "cell_type": "code",
   "execution_count": 11,
   "metadata": {},
   "outputs": [],
   "source": [
    "df2 = pd.DataFrame(np.array([[1, 2, 3], [4, 5, 6], [7, 8 , 9 ]]), columns=['a', 'b', 'c'])"
   ]
  },
  {
   "cell_type": "code",
   "execution_count": 12,
   "metadata": {},
   "outputs": [
    {
     "data": {
      "text/html": [
       "<div>\n",
       "<style scoped>\n",
       "    .dataframe tbody tr th:only-of-type {\n",
       "        vertical-align: middle;\n",
       "    }\n",
       "\n",
       "    .dataframe tbody tr th {\n",
       "        vertical-align: top;\n",
       "    }\n",
       "\n",
       "    .dataframe thead th {\n",
       "        text-align: right;\n",
       "    }\n",
       "</style>\n",
       "<table border=\"1\" class=\"dataframe\">\n",
       "  <thead>\n",
       "    <tr style=\"text-align: right;\">\n",
       "      <th></th>\n",
       "      <th>a</th>\n",
       "      <th>b</th>\n",
       "      <th>c</th>\n",
       "    </tr>\n",
       "  </thead>\n",
       "  <tbody>\n",
       "    <tr>\n",
       "      <th>0</th>\n",
       "      <td>1</td>\n",
       "      <td>2</td>\n",
       "      <td>3</td>\n",
       "    </tr>\n",
       "    <tr>\n",
       "      <th>1</th>\n",
       "      <td>4</td>\n",
       "      <td>5</td>\n",
       "      <td>6</td>\n",
       "    </tr>\n",
       "    <tr>\n",
       "      <th>2</th>\n",
       "      <td>7</td>\n",
       "      <td>8</td>\n",
       "      <td>9</td>\n",
       "    </tr>\n",
       "  </tbody>\n",
       "</table>\n",
       "</div>"
      ],
      "text/plain": [
       "   a  b  c\n",
       "0  1  2  3\n",
       "1  4  5  6\n",
       "2  7  8  9"
      ]
     },
     "execution_count": 12,
     "metadata": {},
     "output_type": "execute_result"
    }
   ],
   "source": [
    "df2"
   ]
  },
  {
   "cell_type": "code",
   "execution_count": 13,
   "metadata": {},
   "outputs": [
    {
     "data": {
      "text/html": [
       "<div>\n",
       "<style scoped>\n",
       "    .dataframe tbody tr th:only-of-type {\n",
       "        vertical-align: middle;\n",
       "    }\n",
       "\n",
       "    .dataframe tbody tr th {\n",
       "        vertical-align: top;\n",
       "    }\n",
       "\n",
       "    .dataframe thead th {\n",
       "        text-align: right;\n",
       "    }\n",
       "</style>\n",
       "<table border=\"1\" class=\"dataframe\">\n",
       "  <thead>\n",
       "    <tr style=\"text-align: right;\">\n",
       "      <th></th>\n",
       "      <th>0</th>\n",
       "      <th>1</th>\n",
       "      <th>2</th>\n",
       "    </tr>\n",
       "  </thead>\n",
       "  <tbody>\n",
       "    <tr>\n",
       "      <th>a</th>\n",
       "      <td>1</td>\n",
       "      <td>4</td>\n",
       "      <td>7</td>\n",
       "    </tr>\n",
       "    <tr>\n",
       "      <th>b</th>\n",
       "      <td>2</td>\n",
       "      <td>5</td>\n",
       "      <td>8</td>\n",
       "    </tr>\n",
       "    <tr>\n",
       "      <th>c</th>\n",
       "      <td>3</td>\n",
       "      <td>6</td>\n",
       "      <td>9</td>\n",
       "    </tr>\n",
       "  </tbody>\n",
       "</table>\n",
       "</div>"
      ],
      "text/plain": [
       "   0  1  2\n",
       "a  1  4  7\n",
       "b  2  5  8\n",
       "c  3  6  9"
      ]
     },
     "execution_count": 13,
     "metadata": {},
     "output_type": "execute_result"
    }
   ],
   "source": [
    "df2.T # TRANSPOSED"
   ]
  },
  {
   "cell_type": "code",
   "execution_count": 14,
   "metadata": {},
   "outputs": [],
   "source": [
    "import numpy as np"
   ]
  },
  {
   "cell_type": "code",
   "execution_count": 15,
   "metadata": {},
   "outputs": [],
   "source": [
    "s = pd.Series([1, 3, 4, np.nan, 6, 8])"
   ]
  },
  {
   "cell_type": "code",
   "execution_count": 16,
   "metadata": {},
   "outputs": [
    {
     "data": {
      "text/plain": [
       "0    1.0\n",
       "1    3.0\n",
       "2    4.0\n",
       "3    NaN\n",
       "4    6.0\n",
       "5    8.0\n",
       "dtype: float64"
      ]
     },
     "execution_count": 16,
     "metadata": {},
     "output_type": "execute_result"
    }
   ],
   "source": [
    "s"
   ]
  },
  {
   "cell_type": "code",
   "execution_count": 17,
   "metadata": {},
   "outputs": [
    {
     "data": {
      "text/plain": [
       "dtype('float64')"
      ]
     },
     "execution_count": 17,
     "metadata": {},
     "output_type": "execute_result"
    }
   ],
   "source": [
    "s.dtype"
   ]
  },
  {
   "cell_type": "code",
   "execution_count": 18,
   "metadata": {},
   "outputs": [
    {
     "data": {
      "text/plain": [
       "list"
      ]
     },
     "execution_count": 18,
     "metadata": {},
     "output_type": "execute_result"
    }
   ],
   "source": [
    "type([1])"
   ]
  },
  {
   "cell_type": "code",
   "execution_count": 19,
   "metadata": {},
   "outputs": [],
   "source": [
    "dates = pd.date_range('010198', periods=12)"
   ]
  },
  {
   "cell_type": "code",
   "execution_count": 20,
   "metadata": {},
   "outputs": [
    {
     "data": {
      "text/plain": [
       "DatetimeIndex(['1998-01-01', '1998-01-02', '1998-01-03', '1998-01-04',\n",
       "               '1998-01-05', '1998-01-06', '1998-01-07', '1998-01-08',\n",
       "               '1998-01-09', '1998-01-10', '1998-01-11', '1998-01-12'],\n",
       "              dtype='datetime64[ns]', freq='D')"
      ]
     },
     "execution_count": 20,
     "metadata": {},
     "output_type": "execute_result"
    }
   ],
   "source": [
    "dates"
   ]
  },
  {
   "cell_type": "code",
   "execution_count": 21,
   "metadata": {},
   "outputs": [],
   "source": [
    "df = pd.DataFrame(np.random.randn(12, 4), index=dates, columns=list('ABCD'))"
   ]
  },
  {
   "cell_type": "code",
   "execution_count": 22,
   "metadata": {},
   "outputs": [
    {
     "data": {
      "text/html": [
       "<div>\n",
       "<style scoped>\n",
       "    .dataframe tbody tr th:only-of-type {\n",
       "        vertical-align: middle;\n",
       "    }\n",
       "\n",
       "    .dataframe tbody tr th {\n",
       "        vertical-align: top;\n",
       "    }\n",
       "\n",
       "    .dataframe thead th {\n",
       "        text-align: right;\n",
       "    }\n",
       "</style>\n",
       "<table border=\"1\" class=\"dataframe\">\n",
       "  <thead>\n",
       "    <tr style=\"text-align: right;\">\n",
       "      <th></th>\n",
       "      <th>A</th>\n",
       "      <th>B</th>\n",
       "      <th>C</th>\n",
       "      <th>D</th>\n",
       "    </tr>\n",
       "  </thead>\n",
       "  <tbody>\n",
       "    <tr>\n",
       "      <th>1998-01-01</th>\n",
       "      <td>1.500975</td>\n",
       "      <td>-0.577141</td>\n",
       "      <td>0.369879</td>\n",
       "      <td>-0.192724</td>\n",
       "    </tr>\n",
       "    <tr>\n",
       "      <th>1998-01-02</th>\n",
       "      <td>1.349830</td>\n",
       "      <td>-0.855208</td>\n",
       "      <td>0.476307</td>\n",
       "      <td>-0.470139</td>\n",
       "    </tr>\n",
       "    <tr>\n",
       "      <th>1998-01-03</th>\n",
       "      <td>-0.804900</td>\n",
       "      <td>0.364817</td>\n",
       "      <td>-0.349649</td>\n",
       "      <td>-1.118038</td>\n",
       "    </tr>\n",
       "    <tr>\n",
       "      <th>1998-01-04</th>\n",
       "      <td>-0.326501</td>\n",
       "      <td>0.524105</td>\n",
       "      <td>-0.309165</td>\n",
       "      <td>0.843571</td>\n",
       "    </tr>\n",
       "    <tr>\n",
       "      <th>1998-01-05</th>\n",
       "      <td>-0.563690</td>\n",
       "      <td>0.130664</td>\n",
       "      <td>1.682774</td>\n",
       "      <td>0.446836</td>\n",
       "    </tr>\n",
       "    <tr>\n",
       "      <th>1998-01-06</th>\n",
       "      <td>0.303831</td>\n",
       "      <td>2.107949</td>\n",
       "      <td>-0.173573</td>\n",
       "      <td>-0.133400</td>\n",
       "    </tr>\n",
       "    <tr>\n",
       "      <th>1998-01-07</th>\n",
       "      <td>-0.135883</td>\n",
       "      <td>-1.184108</td>\n",
       "      <td>0.276715</td>\n",
       "      <td>1.508848</td>\n",
       "    </tr>\n",
       "    <tr>\n",
       "      <th>1998-01-08</th>\n",
       "      <td>0.506006</td>\n",
       "      <td>0.012619</td>\n",
       "      <td>-0.932444</td>\n",
       "      <td>1.482529</td>\n",
       "    </tr>\n",
       "    <tr>\n",
       "      <th>1998-01-09</th>\n",
       "      <td>-1.479851</td>\n",
       "      <td>-0.224331</td>\n",
       "      <td>-0.773404</td>\n",
       "      <td>-1.952346</td>\n",
       "    </tr>\n",
       "    <tr>\n",
       "      <th>1998-01-10</th>\n",
       "      <td>0.001631</td>\n",
       "      <td>-0.475671</td>\n",
       "      <td>-1.250386</td>\n",
       "      <td>0.762192</td>\n",
       "    </tr>\n",
       "    <tr>\n",
       "      <th>1998-01-11</th>\n",
       "      <td>-0.240555</td>\n",
       "      <td>0.844118</td>\n",
       "      <td>-0.012641</td>\n",
       "      <td>-0.329593</td>\n",
       "    </tr>\n",
       "    <tr>\n",
       "      <th>1998-01-12</th>\n",
       "      <td>-1.556939</td>\n",
       "      <td>0.713750</td>\n",
       "      <td>1.173599</td>\n",
       "      <td>0.829632</td>\n",
       "    </tr>\n",
       "  </tbody>\n",
       "</table>\n",
       "</div>"
      ],
      "text/plain": [
       "                   A         B         C         D\n",
       "1998-01-01  1.500975 -0.577141  0.369879 -0.192724\n",
       "1998-01-02  1.349830 -0.855208  0.476307 -0.470139\n",
       "1998-01-03 -0.804900  0.364817 -0.349649 -1.118038\n",
       "1998-01-04 -0.326501  0.524105 -0.309165  0.843571\n",
       "1998-01-05 -0.563690  0.130664  1.682774  0.446836\n",
       "1998-01-06  0.303831  2.107949 -0.173573 -0.133400\n",
       "1998-01-07 -0.135883 -1.184108  0.276715  1.508848\n",
       "1998-01-08  0.506006  0.012619 -0.932444  1.482529\n",
       "1998-01-09 -1.479851 -0.224331 -0.773404 -1.952346\n",
       "1998-01-10  0.001631 -0.475671 -1.250386  0.762192\n",
       "1998-01-11 -0.240555  0.844118 -0.012641 -0.329593\n",
       "1998-01-12 -1.556939  0.713750  1.173599  0.829632"
      ]
     },
     "execution_count": 22,
     "metadata": {},
     "output_type": "execute_result"
    }
   ],
   "source": [
    "df"
   ]
  },
  {
   "cell_type": "code",
   "execution_count": 23,
   "metadata": {},
   "outputs": [],
   "source": [
    "df = pd.DataFrame(np.random.randn(12, 12), index=dates, columns=list('123412341234'))"
   ]
  },
  {
   "cell_type": "code",
   "execution_count": 24,
   "metadata": {},
   "outputs": [],
   "source": [
    "# df['2'] = 0"
   ]
  },
  {
   "cell_type": "code",
   "execution_count": 25,
   "metadata": {},
   "outputs": [
    {
     "data": {
      "text/plain": [
       "range(1, 10)"
      ]
     },
     "execution_count": 25,
     "metadata": {},
     "output_type": "execute_result"
    }
   ],
   "source": [
    "range(1, 10)"
   ]
  },
  {
   "cell_type": "code",
   "execution_count": 26,
   "metadata": {},
   "outputs": [],
   "source": [
    "l =list(range(1, 10))"
   ]
  },
  {
   "cell_type": "code",
   "execution_count": 27,
   "metadata": {},
   "outputs": [
    {
     "name": "stdout",
     "output_type": "stream",
     "text": [
      "1\n",
      "2\n",
      "3\n",
      "4\n",
      "5\n",
      "6\n",
      "7\n",
      "8\n",
      "9\n"
     ]
    }
   ],
   "source": [
    "for n in range(1, 10):\n",
    "    print(n)"
   ]
  },
  {
   "cell_type": "code",
   "execution_count": 28,
   "metadata": {},
   "outputs": [
    {
     "data": {
      "text/plain": [
       "[1, 2, 3, 4, 5, 6, 7, 8, 9]"
      ]
     },
     "execution_count": 28,
     "metadata": {},
     "output_type": "execute_result"
    }
   ],
   "source": [
    "l"
   ]
  },
  {
   "cell_type": "code",
   "execution_count": 29,
   "metadata": {},
   "outputs": [
    {
     "name": "stdout",
     "output_type": "stream",
     "text": [
      "[3, 4, 5, 6, 7, 8, 9]\n"
     ]
    }
   ],
   "source": [
    "indices  = [x for  i , x  in enumerate(l) if x > 2]\n",
    "print(indices)"
   ]
  },
  {
   "cell_type": "code",
   "execution_count": 30,
   "metadata": {},
   "outputs": [],
   "source": [
    "def add(a, b):\n",
    "    print(a)\n",
    "    print(id(a))\n",
    "    res = a + b\n",
    "    a = a + a\n",
    "    print(id(a))\n",
    "    b=200\n",
    "    return res    "
   ]
  },
  {
   "cell_type": "code",
   "execution_count": 31,
   "metadata": {},
   "outputs": [
    {
     "name": "stdout",
     "output_type": "stream",
     "text": [
      "8791330632560\n",
      "2\n",
      "8791330632560\n",
      "8791330632624\n",
      "5\n",
      "2\n"
     ]
    }
   ],
   "source": [
    "a, b = 2,3\n",
    "print(id(a))\n",
    "print(add(a, b))\n",
    "print(a)"
   ]
  },
  {
   "cell_type": "code",
   "execution_count": 32,
   "metadata": {},
   "outputs": [
    {
     "data": {
      "text/plain": [
       "2"
      ]
     },
     "execution_count": 32,
     "metadata": {},
     "output_type": "execute_result"
    }
   ],
   "source": [
    "a"
   ]
  },
  {
   "cell_type": "code",
   "execution_count": 33,
   "metadata": {},
   "outputs": [
    {
     "data": {
      "text/plain": [
       "3"
      ]
     },
     "execution_count": 33,
     "metadata": {},
     "output_type": "execute_result"
    }
   ],
   "source": [
    "3"
   ]
  },
  {
   "cell_type": "code",
   "execution_count": 34,
   "metadata": {},
   "outputs": [],
   "source": [
    "l.reverse()"
   ]
  },
  {
   "cell_type": "code",
   "execution_count": 35,
   "metadata": {},
   "outputs": [
    {
     "name": "stdout",
     "output_type": "stream",
     "text": [
      "[9, 8, 7, 6, 5, 4, 3, 2, 1]\n"
     ]
    }
   ],
   "source": [
    "print(l)"
   ]
  },
  {
   "cell_type": "code",
   "execution_count": 36,
   "metadata": {},
   "outputs": [],
   "source": [
    "e = enumerate(l)"
   ]
  },
  {
   "cell_type": "code",
   "execution_count": 37,
   "metadata": {},
   "outputs": [
    {
     "name": "stdout",
     "output_type": "stream",
     "text": [
      "0 9\n",
      "1 8\n",
      "2 7\n",
      "3 6\n",
      "4 5\n",
      "5 4\n",
      "6 3\n",
      "7 2\n",
      "8 1\n"
     ]
    }
   ],
   "source": [
    "for index, item in enumerate(l):\n",
    "    print(index, item)"
   ]
  },
  {
   "cell_type": "code",
   "execution_count": 38,
   "metadata": {},
   "outputs": [],
   "source": [
    "def good_append(new_item, a_list=None):\n",
    "    if a_list is None:\n",
    "        a_list = []\n",
    "    a_list.append(new_item)\n",
    "    return a_list"
   ]
  },
  {
   "cell_type": "code",
   "execution_count": 39,
   "metadata": {},
   "outputs": [
    {
     "data": {
      "text/plain": [
       "['one']"
      ]
     },
     "execution_count": 39,
     "metadata": {},
     "output_type": "execute_result"
    }
   ],
   "source": [
    "good_append('one')"
   ]
  },
  {
   "cell_type": "code",
   "execution_count": 40,
   "metadata": {},
   "outputs": [
    {
     "data": {
      "text/plain": [
       "['two']"
      ]
     },
     "execution_count": 40,
     "metadata": {},
     "output_type": "execute_result"
    }
   ],
   "source": [
    "good_append('two')"
   ]
  },
  {
   "cell_type": "code",
   "execution_count": 41,
   "metadata": {},
   "outputs": [],
   "source": [
    "nums = pd.DataFrame([range(1, 3)])"
   ]
  },
  {
   "cell_type": "code",
   "execution_count": 42,
   "metadata": {},
   "outputs": [
    {
     "data": {
      "text/plain": [
       "(1, 2)"
      ]
     },
     "execution_count": 42,
     "metadata": {},
     "output_type": "execute_result"
    }
   ],
   "source": [
    "nums.shape"
   ]
  },
  {
   "cell_type": "code",
   "execution_count": 43,
   "metadata": {},
   "outputs": [
    {
     "data": {
      "text/html": [
       "<div>\n",
       "<style scoped>\n",
       "    .dataframe tbody tr th:only-of-type {\n",
       "        vertical-align: middle;\n",
       "    }\n",
       "\n",
       "    .dataframe tbody tr th {\n",
       "        vertical-align: top;\n",
       "    }\n",
       "\n",
       "    .dataframe thead th {\n",
       "        text-align: right;\n",
       "    }\n",
       "</style>\n",
       "<table border=\"1\" class=\"dataframe\">\n",
       "  <thead>\n",
       "    <tr style=\"text-align: right;\">\n",
       "      <th></th>\n",
       "      <th>0</th>\n",
       "      <th>1</th>\n",
       "    </tr>\n",
       "  </thead>\n",
       "  <tbody>\n",
       "    <tr>\n",
       "      <th>0</th>\n",
       "      <td>1</td>\n",
       "      <td>2</td>\n",
       "    </tr>\n",
       "  </tbody>\n",
       "</table>\n",
       "</div>"
      ],
      "text/plain": [
       "   0  1\n",
       "0  1  2"
      ]
     },
     "execution_count": 43,
     "metadata": {},
     "output_type": "execute_result"
    }
   ],
   "source": [
    "nums"
   ]
  },
  {
   "cell_type": "code",
   "execution_count": 44,
   "metadata": {},
   "outputs": [],
   "source": [
    "df2 = pd.DataFrame({\n",
    "    'A':1.,\n",
    "    'B': pd.Timestamp('20190101'),\n",
    "    'C':pd.Series(1, index=list(range(4)), dtype='float32'),\n",
    "    'D': np.array([3]* 4, dtype='int32'),\n",
    "    'E':pd.Categorical(['test', 'train', 'test', 'train']),\n",
    "    'F': 'foo'\n",
    "})"
   ]
  },
  {
   "cell_type": "code",
   "execution_count": 45,
   "metadata": {},
   "outputs": [
    {
     "data": {
      "text/plain": [
       "0     test\n",
       "1    train\n",
       "2     test\n",
       "3    train\n",
       "Name: E, dtype: category\n",
       "Categories (2, object): [test, train]"
      ]
     },
     "execution_count": 45,
     "metadata": {},
     "output_type": "execute_result"
    }
   ],
   "source": [
    "df2\n",
    "df2['E']"
   ]
  },
  {
   "cell_type": "code",
   "execution_count": 46,
   "metadata": {},
   "outputs": [],
   "source": [
    "arr = np.array([3] * 10)"
   ]
  },
  {
   "cell_type": "code",
   "execution_count": 47,
   "metadata": {},
   "outputs": [
    {
     "data": {
      "text/plain": [
       "[3, 3, 3, 3, 3, 3, 3, 3, 3, 3]"
      ]
     },
     "execution_count": 47,
     "metadata": {},
     "output_type": "execute_result"
    }
   ],
   "source": [
    "list(arr)"
   ]
  },
  {
   "cell_type": "code",
   "execution_count": 48,
   "metadata": {},
   "outputs": [],
   "source": [
    "import string"
   ]
  },
  {
   "cell_type": "code",
   "execution_count": 49,
   "metadata": {},
   "outputs": [
    {
     "data": {
      "text/plain": [
       "'ABCDEFGHIJKLMNOPQRSTUVWX'"
      ]
     },
     "execution_count": 49,
     "metadata": {},
     "output_type": "execute_result"
    }
   ],
   "source": [
    "string.ascii_uppercase[:-2]"
   ]
  },
  {
   "cell_type": "code",
   "execution_count": 50,
   "metadata": {},
   "outputs": [],
   "source": [
    "s = np.array([\"testing\"] * 24)"
   ]
  },
  {
   "cell_type": "code",
   "execution_count": 51,
   "metadata": {},
   "outputs": [
    {
     "data": {
      "text/plain": [
       "[('A', 't', 0),\n",
       " ('B', 'e', 1),\n",
       " ('C', 's', 2),\n",
       " ('D', 't', 3),\n",
       " ('E', 'i', 4),\n",
       " ('F', 'n', 5),\n",
       " ('G', 'g', 6),\n",
       " ('H', 't', 7),\n",
       " ('I', 'e', 8),\n",
       " ('J', 's', 9),\n",
       " ('K', 't', 10),\n",
       " ('L', 'i', 11),\n",
       " ('M', 'n', 12),\n",
       " ('N', 'g', 13)]"
      ]
     },
     "execution_count": 51,
     "metadata": {},
     "output_type": "execute_result"
    }
   ],
   "source": [
    "l1 = list(zip(string.ascii_uppercase[:-2],list(\"testingtesting\"), range(25)))\n",
    "l1"
   ]
  },
  {
   "cell_type": "code",
   "execution_count": 52,
   "metadata": {},
   "outputs": [
    {
     "data": {
      "text/plain": [
       "<bound method NDFrame.describe of      A          B    C  D      E    F\n",
       "0  1.0 2019-01-01  1.0  3   test  foo\n",
       "1  1.0 2019-01-01  1.0  3  train  foo\n",
       "2  1.0 2019-01-01  1.0  3   test  foo\n",
       "3  1.0 2019-01-01  1.0  3  train  foo>"
      ]
     },
     "execution_count": 52,
     "metadata": {},
     "output_type": "execute_result"
    }
   ],
   "source": [
    "df2.describe"
   ]
  },
  {
   "cell_type": "code",
   "execution_count": 53,
   "metadata": {},
   "outputs": [
    {
     "data": {
      "text/plain": [
       "A           float64\n",
       "B    datetime64[ns]\n",
       "C           float32\n",
       "D             int32\n",
       "E          category\n",
       "F            object\n",
       "dtype: object"
      ]
     },
     "execution_count": 53,
     "metadata": {},
     "output_type": "execute_result"
    }
   ],
   "source": [
    "df2.dtypes"
   ]
  },
  {
   "cell_type": "code",
   "execution_count": 54,
   "metadata": {},
   "outputs": [
    {
     "data": {
      "text/plain": [
       "Int64Index([0, 1, 2, 3], dtype='int64')"
      ]
     },
     "execution_count": 54,
     "metadata": {},
     "output_type": "execute_result"
    }
   ],
   "source": [
    "df2.index"
   ]
  },
  {
   "cell_type": "code",
   "execution_count": 55,
   "metadata": {},
   "outputs": [],
   "source": [
    "# l1[0][0] + l1[0][1] + string(l1[0][2])"
   ]
  },
  {
   "cell_type": "code",
   "execution_count": 56,
   "metadata": {},
   "outputs": [
    {
     "data": {
      "text/plain": [
       "DatetimeIndex(['1998-01-01', '1998-01-02', '1998-01-03', '1998-01-04',\n",
       "               '1998-01-05', '1998-01-06', '1998-01-07', '1998-01-08',\n",
       "               '1998-01-09', '1998-01-10', '1998-01-11', '1998-01-12'],\n",
       "              dtype='datetime64[ns]', freq='D')"
      ]
     },
     "execution_count": 56,
     "metadata": {},
     "output_type": "execute_result"
    }
   ],
   "source": [
    "df.index"
   ]
  },
  {
   "cell_type": "code",
   "execution_count": 57,
   "metadata": {},
   "outputs": [
    {
     "name": "stdout",
     "output_type": "stream",
     "text": [
      "0 1998-01-01 00:00:00 (0, Timestamp('1998-01-01 00:00:00', freq='D'))\n",
      "1 1998-01-02 00:00:00 (1, Timestamp('1998-01-02 00:00:00', freq='D'))\n",
      "2 1998-01-03 00:00:00 (2, Timestamp('1998-01-03 00:00:00', freq='D'))\n",
      "3 1998-01-04 00:00:00 (3, Timestamp('1998-01-04 00:00:00', freq='D'))\n",
      "4 1998-01-05 00:00:00 (4, Timestamp('1998-01-05 00:00:00', freq='D'))\n",
      "5 1998-01-06 00:00:00 (5, Timestamp('1998-01-06 00:00:00', freq='D'))\n",
      "6 1998-01-07 00:00:00 (6, Timestamp('1998-01-07 00:00:00', freq='D'))\n",
      "7 1998-01-08 00:00:00 (7, Timestamp('1998-01-08 00:00:00', freq='D'))\n",
      "8 1998-01-09 00:00:00 (8, Timestamp('1998-01-09 00:00:00', freq='D'))\n",
      "9 1998-01-10 00:00:00 (9, Timestamp('1998-01-10 00:00:00', freq='D'))\n",
      "10 1998-01-11 00:00:00 (10, Timestamp('1998-01-11 00:00:00', freq='D'))\n",
      "11 1998-01-12 00:00:00 (11, Timestamp('1998-01-12 00:00:00', freq='D'))\n"
     ]
    }
   ],
   "source": [
    "for indx in enumerate(df.index):\n",
    "    print(indx[0], indx[1], indx)"
   ]
  },
  {
   "cell_type": "code",
   "execution_count": 58,
   "metadata": {},
   "outputs": [
    {
     "data": {
      "text/plain": [
       "Index(['1', '2', '3', '4', '1', '2', '3', '4', '1', '2', '3', '4'], dtype='object')"
      ]
     },
     "execution_count": 58,
     "metadata": {},
     "output_type": "execute_result"
    }
   ],
   "source": [
    "df.columns"
   ]
  },
  {
   "cell_type": "code",
   "execution_count": 59,
   "metadata": {},
   "outputs": [
    {
     "data": {
      "text/plain": [
       "Index(['A', 'B', 'C', 'D', 'E', 'F'], dtype='object')"
      ]
     },
     "execution_count": 59,
     "metadata": {},
     "output_type": "execute_result"
    }
   ],
   "source": [
    "df2.columns"
   ]
  },
  {
   "cell_type": "code",
   "execution_count": 60,
   "metadata": {},
   "outputs": [
    {
     "data": {
      "text/plain": [
       "'A'"
      ]
     },
     "execution_count": 60,
     "metadata": {},
     "output_type": "execute_result"
    }
   ],
   "source": [
    "df2.columns[0]"
   ]
  },
  {
   "cell_type": "code",
   "execution_count": 61,
   "metadata": {},
   "outputs": [
    {
     "name": "stdout",
     "output_type": "stream",
     "text": [
      "         A    C    D\n",
      "count  4.0  4.0  4.0\n",
      "mean   1.0  1.0  3.0\n",
      "std    0.0  0.0  0.0\n",
      "min    1.0  1.0  3.0\n",
      "25%    1.0  1.0  3.0\n",
      "50%    1.0  1.0  3.0\n",
      "75%    1.0  1.0  3.0\n",
      "max    1.0  1.0  3.0\n"
     ]
    }
   ],
   "source": [
    "print(df2.describe())"
   ]
  },
  {
   "cell_type": "code",
   "execution_count": 62,
   "metadata": {},
   "outputs": [
    {
     "data": {
      "text/html": [
       "<div>\n",
       "<style scoped>\n",
       "    .dataframe tbody tr th:only-of-type {\n",
       "        vertical-align: middle;\n",
       "    }\n",
       "\n",
       "    .dataframe tbody tr th {\n",
       "        vertical-align: top;\n",
       "    }\n",
       "\n",
       "    .dataframe thead th {\n",
       "        text-align: right;\n",
       "    }\n",
       "</style>\n",
       "<table border=\"1\" class=\"dataframe\">\n",
       "  <thead>\n",
       "    <tr style=\"text-align: right;\">\n",
       "      <th></th>\n",
       "      <th>A</th>\n",
       "      <th>B</th>\n",
       "      <th>C</th>\n",
       "      <th>D</th>\n",
       "      <th>E</th>\n",
       "      <th>F</th>\n",
       "    </tr>\n",
       "  </thead>\n",
       "  <tbody>\n",
       "    <tr>\n",
       "      <th>0</th>\n",
       "      <td>1.0</td>\n",
       "      <td>2019-01-01</td>\n",
       "      <td>1.0</td>\n",
       "      <td>3</td>\n",
       "      <td>test</td>\n",
       "      <td>foo</td>\n",
       "    </tr>\n",
       "    <tr>\n",
       "      <th>1</th>\n",
       "      <td>1.0</td>\n",
       "      <td>2019-01-01</td>\n",
       "      <td>1.0</td>\n",
       "      <td>3</td>\n",
       "      <td>train</td>\n",
       "      <td>foo</td>\n",
       "    </tr>\n",
       "    <tr>\n",
       "      <th>2</th>\n",
       "      <td>1.0</td>\n",
       "      <td>2019-01-01</td>\n",
       "      <td>1.0</td>\n",
       "      <td>3</td>\n",
       "      <td>test</td>\n",
       "      <td>foo</td>\n",
       "    </tr>\n",
       "    <tr>\n",
       "      <th>3</th>\n",
       "      <td>1.0</td>\n",
       "      <td>2019-01-01</td>\n",
       "      <td>1.0</td>\n",
       "      <td>3</td>\n",
       "      <td>train</td>\n",
       "      <td>foo</td>\n",
       "    </tr>\n",
       "  </tbody>\n",
       "</table>\n",
       "</div>"
      ],
      "text/plain": [
       "     A          B    C  D      E    F\n",
       "0  1.0 2019-01-01  1.0  3   test  foo\n",
       "1  1.0 2019-01-01  1.0  3  train  foo\n",
       "2  1.0 2019-01-01  1.0  3   test  foo\n",
       "3  1.0 2019-01-01  1.0  3  train  foo"
      ]
     },
     "execution_count": 62,
     "metadata": {},
     "output_type": "execute_result"
    }
   ],
   "source": [
    "df2"
   ]
  },
  {
   "cell_type": "code",
   "execution_count": 63,
   "metadata": {},
   "outputs": [
    {
     "data": {
      "text/plain": [
       "0   2019-01-01\n",
       "1   2019-01-01\n",
       "2   2019-01-01\n",
       "3   2019-01-01\n",
       "Name: B, dtype: datetime64[ns]"
      ]
     },
     "execution_count": 63,
     "metadata": {},
     "output_type": "execute_result"
    }
   ],
   "source": [
    "df2['B'].T"
   ]
  },
  {
   "cell_type": "code",
   "execution_count": 64,
   "metadata": {},
   "outputs": [
    {
     "data": {
      "text/html": [
       "<div>\n",
       "<style scoped>\n",
       "    .dataframe tbody tr th:only-of-type {\n",
       "        vertical-align: middle;\n",
       "    }\n",
       "\n",
       "    .dataframe tbody tr th {\n",
       "        vertical-align: top;\n",
       "    }\n",
       "\n",
       "    .dataframe thead th {\n",
       "        text-align: right;\n",
       "    }\n",
       "</style>\n",
       "<table border=\"1\" class=\"dataframe\">\n",
       "  <thead>\n",
       "    <tr style=\"text-align: right;\">\n",
       "      <th></th>\n",
       "      <th>A</th>\n",
       "      <th>B</th>\n",
       "      <th>C</th>\n",
       "      <th>D</th>\n",
       "      <th>E</th>\n",
       "      <th>F</th>\n",
       "    </tr>\n",
       "  </thead>\n",
       "  <tbody>\n",
       "    <tr>\n",
       "      <th>0</th>\n",
       "      <td>1.0</td>\n",
       "      <td>2019-01-01</td>\n",
       "      <td>1.0</td>\n",
       "      <td>3</td>\n",
       "      <td>test</td>\n",
       "      <td>foo</td>\n",
       "    </tr>\n",
       "    <tr>\n",
       "      <th>1</th>\n",
       "      <td>1.0</td>\n",
       "      <td>2019-01-01</td>\n",
       "      <td>1.0</td>\n",
       "      <td>3</td>\n",
       "      <td>train</td>\n",
       "      <td>foo</td>\n",
       "    </tr>\n",
       "    <tr>\n",
       "      <th>2</th>\n",
       "      <td>1.0</td>\n",
       "      <td>2019-01-01</td>\n",
       "      <td>1.0</td>\n",
       "      <td>3</td>\n",
       "      <td>test</td>\n",
       "      <td>foo</td>\n",
       "    </tr>\n",
       "    <tr>\n",
       "      <th>3</th>\n",
       "      <td>1.0</td>\n",
       "      <td>2019-01-01</td>\n",
       "      <td>1.0</td>\n",
       "      <td>3</td>\n",
       "      <td>train</td>\n",
       "      <td>foo</td>\n",
       "    </tr>\n",
       "  </tbody>\n",
       "</table>\n",
       "</div>"
      ],
      "text/plain": [
       "     A          B    C  D      E    F\n",
       "0  1.0 2019-01-01  1.0  3   test  foo\n",
       "1  1.0 2019-01-01  1.0  3  train  foo\n",
       "2  1.0 2019-01-01  1.0  3   test  foo\n",
       "3  1.0 2019-01-01  1.0  3  train  foo"
      ]
     },
     "execution_count": 64,
     "metadata": {},
     "output_type": "execute_result"
    }
   ],
   "source": [
    "df2"
   ]
  },
  {
   "cell_type": "code",
   "execution_count": 65,
   "metadata": {},
   "outputs": [
    {
     "data": {
      "text/html": [
       "<div>\n",
       "<style scoped>\n",
       "    .dataframe tbody tr th:only-of-type {\n",
       "        vertical-align: middle;\n",
       "    }\n",
       "\n",
       "    .dataframe tbody tr th {\n",
       "        vertical-align: top;\n",
       "    }\n",
       "\n",
       "    .dataframe thead th {\n",
       "        text-align: right;\n",
       "    }\n",
       "</style>\n",
       "<table border=\"1\" class=\"dataframe\">\n",
       "  <thead>\n",
       "    <tr style=\"text-align: right;\">\n",
       "      <th></th>\n",
       "      <th>1</th>\n",
       "      <th>2</th>\n",
       "      <th>3</th>\n",
       "      <th>4</th>\n",
       "      <th>1</th>\n",
       "      <th>2</th>\n",
       "      <th>3</th>\n",
       "      <th>4</th>\n",
       "      <th>1</th>\n",
       "      <th>2</th>\n",
       "      <th>3</th>\n",
       "      <th>4</th>\n",
       "    </tr>\n",
       "  </thead>\n",
       "  <tbody>\n",
       "    <tr>\n",
       "      <th>1998-01-01</th>\n",
       "      <td>0.887399</td>\n",
       "      <td>0.143829</td>\n",
       "      <td>0.785756</td>\n",
       "      <td>1.276510</td>\n",
       "      <td>-1.745830</td>\n",
       "      <td>0.257040</td>\n",
       "      <td>0.684592</td>\n",
       "      <td>0.557866</td>\n",
       "      <td>-0.394353</td>\n",
       "      <td>0.122547</td>\n",
       "      <td>0.294415</td>\n",
       "      <td>1.327153</td>\n",
       "    </tr>\n",
       "    <tr>\n",
       "      <th>1998-01-02</th>\n",
       "      <td>2.063800</td>\n",
       "      <td>0.299330</td>\n",
       "      <td>0.091553</td>\n",
       "      <td>0.354430</td>\n",
       "      <td>-0.252016</td>\n",
       "      <td>-0.545208</td>\n",
       "      <td>-1.107447</td>\n",
       "      <td>-2.784685</td>\n",
       "      <td>0.161493</td>\n",
       "      <td>-0.462461</td>\n",
       "      <td>-0.049808</td>\n",
       "      <td>0.520348</td>\n",
       "    </tr>\n",
       "    <tr>\n",
       "      <th>1998-01-03</th>\n",
       "      <td>-0.303405</td>\n",
       "      <td>-1.396396</td>\n",
       "      <td>-0.660102</td>\n",
       "      <td>-1.130449</td>\n",
       "      <td>0.588433</td>\n",
       "      <td>-1.430489</td>\n",
       "      <td>2.495056</td>\n",
       "      <td>-0.762089</td>\n",
       "      <td>0.020751</td>\n",
       "      <td>-0.724937</td>\n",
       "      <td>1.151185</td>\n",
       "      <td>1.759753</td>\n",
       "    </tr>\n",
       "    <tr>\n",
       "      <th>1998-01-04</th>\n",
       "      <td>-1.233963</td>\n",
       "      <td>0.722042</td>\n",
       "      <td>1.210521</td>\n",
       "      <td>0.684152</td>\n",
       "      <td>0.775718</td>\n",
       "      <td>-0.591972</td>\n",
       "      <td>0.080094</td>\n",
       "      <td>-0.646145</td>\n",
       "      <td>-1.628849</td>\n",
       "      <td>-0.461677</td>\n",
       "      <td>0.585438</td>\n",
       "      <td>-0.183805</td>\n",
       "    </tr>\n",
       "    <tr>\n",
       "      <th>1998-01-05</th>\n",
       "      <td>0.813207</td>\n",
       "      <td>-1.414509</td>\n",
       "      <td>-0.459587</td>\n",
       "      <td>-0.939752</td>\n",
       "      <td>-0.099476</td>\n",
       "      <td>-1.201758</td>\n",
       "      <td>0.861795</td>\n",
       "      <td>0.466866</td>\n",
       "      <td>0.401425</td>\n",
       "      <td>-0.422547</td>\n",
       "      <td>-0.677025</td>\n",
       "      <td>0.017869</td>\n",
       "    </tr>\n",
       "    <tr>\n",
       "      <th>1998-01-06</th>\n",
       "      <td>0.571506</td>\n",
       "      <td>0.102077</td>\n",
       "      <td>1.332059</td>\n",
       "      <td>1.431345</td>\n",
       "      <td>0.180848</td>\n",
       "      <td>-0.725054</td>\n",
       "      <td>-0.680886</td>\n",
       "      <td>2.467502</td>\n",
       "      <td>1.156768</td>\n",
       "      <td>-0.696012</td>\n",
       "      <td>-0.637396</td>\n",
       "      <td>0.036618</td>\n",
       "    </tr>\n",
       "    <tr>\n",
       "      <th>1998-01-07</th>\n",
       "      <td>-0.160984</td>\n",
       "      <td>-1.533503</td>\n",
       "      <td>-0.781458</td>\n",
       "      <td>-0.590862</td>\n",
       "      <td>1.448740</td>\n",
       "      <td>-2.793129</td>\n",
       "      <td>0.988646</td>\n",
       "      <td>0.598627</td>\n",
       "      <td>0.129566</td>\n",
       "      <td>-0.607984</td>\n",
       "      <td>-1.223746</td>\n",
       "      <td>-0.211527</td>\n",
       "    </tr>\n",
       "    <tr>\n",
       "      <th>1998-01-08</th>\n",
       "      <td>-0.837356</td>\n",
       "      <td>-1.110577</td>\n",
       "      <td>-0.498293</td>\n",
       "      <td>0.772657</td>\n",
       "      <td>-1.294246</td>\n",
       "      <td>2.395190</td>\n",
       "      <td>0.015292</td>\n",
       "      <td>0.718820</td>\n",
       "      <td>0.835924</td>\n",
       "      <td>-1.911297</td>\n",
       "      <td>0.006316</td>\n",
       "      <td>0.128910</td>\n",
       "    </tr>\n",
       "    <tr>\n",
       "      <th>1998-01-09</th>\n",
       "      <td>-0.267244</td>\n",
       "      <td>-0.565602</td>\n",
       "      <td>0.525553</td>\n",
       "      <td>0.075788</td>\n",
       "      <td>0.032667</td>\n",
       "      <td>1.333824</td>\n",
       "      <td>0.385337</td>\n",
       "      <td>0.175094</td>\n",
       "      <td>-1.375153</td>\n",
       "      <td>-0.085692</td>\n",
       "      <td>-0.394269</td>\n",
       "      <td>-0.149857</td>\n",
       "    </tr>\n",
       "    <tr>\n",
       "      <th>1998-01-10</th>\n",
       "      <td>-1.275539</td>\n",
       "      <td>-0.259151</td>\n",
       "      <td>1.157244</td>\n",
       "      <td>-0.391417</td>\n",
       "      <td>-0.603001</td>\n",
       "      <td>-1.109046</td>\n",
       "      <td>-0.662377</td>\n",
       "      <td>0.738820</td>\n",
       "      <td>-1.009800</td>\n",
       "      <td>0.287860</td>\n",
       "      <td>-0.778393</td>\n",
       "      <td>0.165625</td>\n",
       "    </tr>\n",
       "    <tr>\n",
       "      <th>1998-01-11</th>\n",
       "      <td>1.563256</td>\n",
       "      <td>-0.764974</td>\n",
       "      <td>0.958622</td>\n",
       "      <td>-0.095553</td>\n",
       "      <td>-1.449221</td>\n",
       "      <td>-1.233517</td>\n",
       "      <td>-0.698582</td>\n",
       "      <td>-0.730153</td>\n",
       "      <td>0.315685</td>\n",
       "      <td>1.306418</td>\n",
       "      <td>-1.218938</td>\n",
       "      <td>-1.472854</td>\n",
       "    </tr>\n",
       "    <tr>\n",
       "      <th>1998-01-12</th>\n",
       "      <td>0.043175</td>\n",
       "      <td>0.629199</td>\n",
       "      <td>-1.379016</td>\n",
       "      <td>1.801709</td>\n",
       "      <td>-0.369795</td>\n",
       "      <td>-1.843416</td>\n",
       "      <td>1.374293</td>\n",
       "      <td>0.786801</td>\n",
       "      <td>0.686236</td>\n",
       "      <td>0.634917</td>\n",
       "      <td>-0.409658</td>\n",
       "      <td>-0.010510</td>\n",
       "    </tr>\n",
       "  </tbody>\n",
       "</table>\n",
       "</div>"
      ],
      "text/plain": [
       "                   1         2         3         4         1         2  \\\n",
       "1998-01-01  0.887399  0.143829  0.785756  1.276510 -1.745830  0.257040   \n",
       "1998-01-02  2.063800  0.299330  0.091553  0.354430 -0.252016 -0.545208   \n",
       "1998-01-03 -0.303405 -1.396396 -0.660102 -1.130449  0.588433 -1.430489   \n",
       "1998-01-04 -1.233963  0.722042  1.210521  0.684152  0.775718 -0.591972   \n",
       "1998-01-05  0.813207 -1.414509 -0.459587 -0.939752 -0.099476 -1.201758   \n",
       "1998-01-06  0.571506  0.102077  1.332059  1.431345  0.180848 -0.725054   \n",
       "1998-01-07 -0.160984 -1.533503 -0.781458 -0.590862  1.448740 -2.793129   \n",
       "1998-01-08 -0.837356 -1.110577 -0.498293  0.772657 -1.294246  2.395190   \n",
       "1998-01-09 -0.267244 -0.565602  0.525553  0.075788  0.032667  1.333824   \n",
       "1998-01-10 -1.275539 -0.259151  1.157244 -0.391417 -0.603001 -1.109046   \n",
       "1998-01-11  1.563256 -0.764974  0.958622 -0.095553 -1.449221 -1.233517   \n",
       "1998-01-12  0.043175  0.629199 -1.379016  1.801709 -0.369795 -1.843416   \n",
       "\n",
       "                   3         4         1         2         3         4  \n",
       "1998-01-01  0.684592  0.557866 -0.394353  0.122547  0.294415  1.327153  \n",
       "1998-01-02 -1.107447 -2.784685  0.161493 -0.462461 -0.049808  0.520348  \n",
       "1998-01-03  2.495056 -0.762089  0.020751 -0.724937  1.151185  1.759753  \n",
       "1998-01-04  0.080094 -0.646145 -1.628849 -0.461677  0.585438 -0.183805  \n",
       "1998-01-05  0.861795  0.466866  0.401425 -0.422547 -0.677025  0.017869  \n",
       "1998-01-06 -0.680886  2.467502  1.156768 -0.696012 -0.637396  0.036618  \n",
       "1998-01-07  0.988646  0.598627  0.129566 -0.607984 -1.223746 -0.211527  \n",
       "1998-01-08  0.015292  0.718820  0.835924 -1.911297  0.006316  0.128910  \n",
       "1998-01-09  0.385337  0.175094 -1.375153 -0.085692 -0.394269 -0.149857  \n",
       "1998-01-10 -0.662377  0.738820 -1.009800  0.287860 -0.778393  0.165625  \n",
       "1998-01-11 -0.698582 -0.730153  0.315685  1.306418 -1.218938 -1.472854  \n",
       "1998-01-12  1.374293  0.786801  0.686236  0.634917 -0.409658 -0.010510  "
      ]
     },
     "execution_count": 65,
     "metadata": {},
     "output_type": "execute_result"
    }
   ],
   "source": [
    "df"
   ]
  },
  {
   "cell_type": "code",
   "execution_count": 66,
   "metadata": {},
   "outputs": [
    {
     "data": {
      "text/html": [
       "<div>\n",
       "<style scoped>\n",
       "    .dataframe tbody tr th:only-of-type {\n",
       "        vertical-align: middle;\n",
       "    }\n",
       "\n",
       "    .dataframe tbody tr th {\n",
       "        vertical-align: top;\n",
       "    }\n",
       "\n",
       "    .dataframe thead th {\n",
       "        text-align: right;\n",
       "    }\n",
       "</style>\n",
       "<table border=\"1\" class=\"dataframe\">\n",
       "  <thead>\n",
       "    <tr style=\"text-align: right;\">\n",
       "      <th></th>\n",
       "      <th>4</th>\n",
       "      <th>4</th>\n",
       "      <th>4</th>\n",
       "      <th>3</th>\n",
       "      <th>3</th>\n",
       "      <th>3</th>\n",
       "      <th>2</th>\n",
       "      <th>2</th>\n",
       "      <th>2</th>\n",
       "      <th>1</th>\n",
       "      <th>1</th>\n",
       "      <th>1</th>\n",
       "    </tr>\n",
       "  </thead>\n",
       "  <tbody>\n",
       "    <tr>\n",
       "      <th>1998-01-01</th>\n",
       "      <td>1.276510</td>\n",
       "      <td>0.557866</td>\n",
       "      <td>1.327153</td>\n",
       "      <td>0.785756</td>\n",
       "      <td>0.684592</td>\n",
       "      <td>0.294415</td>\n",
       "      <td>0.143829</td>\n",
       "      <td>0.257040</td>\n",
       "      <td>0.122547</td>\n",
       "      <td>0.887399</td>\n",
       "      <td>-1.745830</td>\n",
       "      <td>-0.394353</td>\n",
       "    </tr>\n",
       "    <tr>\n",
       "      <th>1998-01-02</th>\n",
       "      <td>0.354430</td>\n",
       "      <td>-2.784685</td>\n",
       "      <td>0.520348</td>\n",
       "      <td>0.091553</td>\n",
       "      <td>-1.107447</td>\n",
       "      <td>-0.049808</td>\n",
       "      <td>0.299330</td>\n",
       "      <td>-0.545208</td>\n",
       "      <td>-0.462461</td>\n",
       "      <td>2.063800</td>\n",
       "      <td>-0.252016</td>\n",
       "      <td>0.161493</td>\n",
       "    </tr>\n",
       "    <tr>\n",
       "      <th>1998-01-03</th>\n",
       "      <td>-1.130449</td>\n",
       "      <td>-0.762089</td>\n",
       "      <td>1.759753</td>\n",
       "      <td>-0.660102</td>\n",
       "      <td>2.495056</td>\n",
       "      <td>1.151185</td>\n",
       "      <td>-1.396396</td>\n",
       "      <td>-1.430489</td>\n",
       "      <td>-0.724937</td>\n",
       "      <td>-0.303405</td>\n",
       "      <td>0.588433</td>\n",
       "      <td>0.020751</td>\n",
       "    </tr>\n",
       "    <tr>\n",
       "      <th>1998-01-04</th>\n",
       "      <td>0.684152</td>\n",
       "      <td>-0.646145</td>\n",
       "      <td>-0.183805</td>\n",
       "      <td>1.210521</td>\n",
       "      <td>0.080094</td>\n",
       "      <td>0.585438</td>\n",
       "      <td>0.722042</td>\n",
       "      <td>-0.591972</td>\n",
       "      <td>-0.461677</td>\n",
       "      <td>-1.233963</td>\n",
       "      <td>0.775718</td>\n",
       "      <td>-1.628849</td>\n",
       "    </tr>\n",
       "    <tr>\n",
       "      <th>1998-01-05</th>\n",
       "      <td>-0.939752</td>\n",
       "      <td>0.466866</td>\n",
       "      <td>0.017869</td>\n",
       "      <td>-0.459587</td>\n",
       "      <td>0.861795</td>\n",
       "      <td>-0.677025</td>\n",
       "      <td>-1.414509</td>\n",
       "      <td>-1.201758</td>\n",
       "      <td>-0.422547</td>\n",
       "      <td>0.813207</td>\n",
       "      <td>-0.099476</td>\n",
       "      <td>0.401425</td>\n",
       "    </tr>\n",
       "    <tr>\n",
       "      <th>1998-01-06</th>\n",
       "      <td>1.431345</td>\n",
       "      <td>2.467502</td>\n",
       "      <td>0.036618</td>\n",
       "      <td>1.332059</td>\n",
       "      <td>-0.680886</td>\n",
       "      <td>-0.637396</td>\n",
       "      <td>0.102077</td>\n",
       "      <td>-0.725054</td>\n",
       "      <td>-0.696012</td>\n",
       "      <td>0.571506</td>\n",
       "      <td>0.180848</td>\n",
       "      <td>1.156768</td>\n",
       "    </tr>\n",
       "    <tr>\n",
       "      <th>1998-01-07</th>\n",
       "      <td>-0.590862</td>\n",
       "      <td>0.598627</td>\n",
       "      <td>-0.211527</td>\n",
       "      <td>-0.781458</td>\n",
       "      <td>0.988646</td>\n",
       "      <td>-1.223746</td>\n",
       "      <td>-1.533503</td>\n",
       "      <td>-2.793129</td>\n",
       "      <td>-0.607984</td>\n",
       "      <td>-0.160984</td>\n",
       "      <td>1.448740</td>\n",
       "      <td>0.129566</td>\n",
       "    </tr>\n",
       "    <tr>\n",
       "      <th>1998-01-08</th>\n",
       "      <td>0.772657</td>\n",
       "      <td>0.718820</td>\n",
       "      <td>0.128910</td>\n",
       "      <td>-0.498293</td>\n",
       "      <td>0.015292</td>\n",
       "      <td>0.006316</td>\n",
       "      <td>-1.110577</td>\n",
       "      <td>2.395190</td>\n",
       "      <td>-1.911297</td>\n",
       "      <td>-0.837356</td>\n",
       "      <td>-1.294246</td>\n",
       "      <td>0.835924</td>\n",
       "    </tr>\n",
       "    <tr>\n",
       "      <th>1998-01-09</th>\n",
       "      <td>0.075788</td>\n",
       "      <td>0.175094</td>\n",
       "      <td>-0.149857</td>\n",
       "      <td>0.525553</td>\n",
       "      <td>0.385337</td>\n",
       "      <td>-0.394269</td>\n",
       "      <td>-0.565602</td>\n",
       "      <td>1.333824</td>\n",
       "      <td>-0.085692</td>\n",
       "      <td>-0.267244</td>\n",
       "      <td>0.032667</td>\n",
       "      <td>-1.375153</td>\n",
       "    </tr>\n",
       "    <tr>\n",
       "      <th>1998-01-10</th>\n",
       "      <td>-0.391417</td>\n",
       "      <td>0.738820</td>\n",
       "      <td>0.165625</td>\n",
       "      <td>1.157244</td>\n",
       "      <td>-0.662377</td>\n",
       "      <td>-0.778393</td>\n",
       "      <td>-0.259151</td>\n",
       "      <td>-1.109046</td>\n",
       "      <td>0.287860</td>\n",
       "      <td>-1.275539</td>\n",
       "      <td>-0.603001</td>\n",
       "      <td>-1.009800</td>\n",
       "    </tr>\n",
       "    <tr>\n",
       "      <th>1998-01-11</th>\n",
       "      <td>-0.095553</td>\n",
       "      <td>-0.730153</td>\n",
       "      <td>-1.472854</td>\n",
       "      <td>0.958622</td>\n",
       "      <td>-0.698582</td>\n",
       "      <td>-1.218938</td>\n",
       "      <td>-0.764974</td>\n",
       "      <td>-1.233517</td>\n",
       "      <td>1.306418</td>\n",
       "      <td>1.563256</td>\n",
       "      <td>-1.449221</td>\n",
       "      <td>0.315685</td>\n",
       "    </tr>\n",
       "    <tr>\n",
       "      <th>1998-01-12</th>\n",
       "      <td>1.801709</td>\n",
       "      <td>0.786801</td>\n",
       "      <td>-0.010510</td>\n",
       "      <td>-1.379016</td>\n",
       "      <td>1.374293</td>\n",
       "      <td>-0.409658</td>\n",
       "      <td>0.629199</td>\n",
       "      <td>-1.843416</td>\n",
       "      <td>0.634917</td>\n",
       "      <td>0.043175</td>\n",
       "      <td>-0.369795</td>\n",
       "      <td>0.686236</td>\n",
       "    </tr>\n",
       "  </tbody>\n",
       "</table>\n",
       "</div>"
      ],
      "text/plain": [
       "                   4         4         4         3         3         3  \\\n",
       "1998-01-01  1.276510  0.557866  1.327153  0.785756  0.684592  0.294415   \n",
       "1998-01-02  0.354430 -2.784685  0.520348  0.091553 -1.107447 -0.049808   \n",
       "1998-01-03 -1.130449 -0.762089  1.759753 -0.660102  2.495056  1.151185   \n",
       "1998-01-04  0.684152 -0.646145 -0.183805  1.210521  0.080094  0.585438   \n",
       "1998-01-05 -0.939752  0.466866  0.017869 -0.459587  0.861795 -0.677025   \n",
       "1998-01-06  1.431345  2.467502  0.036618  1.332059 -0.680886 -0.637396   \n",
       "1998-01-07 -0.590862  0.598627 -0.211527 -0.781458  0.988646 -1.223746   \n",
       "1998-01-08  0.772657  0.718820  0.128910 -0.498293  0.015292  0.006316   \n",
       "1998-01-09  0.075788  0.175094 -0.149857  0.525553  0.385337 -0.394269   \n",
       "1998-01-10 -0.391417  0.738820  0.165625  1.157244 -0.662377 -0.778393   \n",
       "1998-01-11 -0.095553 -0.730153 -1.472854  0.958622 -0.698582 -1.218938   \n",
       "1998-01-12  1.801709  0.786801 -0.010510 -1.379016  1.374293 -0.409658   \n",
       "\n",
       "                   2         2         2         1         1         1  \n",
       "1998-01-01  0.143829  0.257040  0.122547  0.887399 -1.745830 -0.394353  \n",
       "1998-01-02  0.299330 -0.545208 -0.462461  2.063800 -0.252016  0.161493  \n",
       "1998-01-03 -1.396396 -1.430489 -0.724937 -0.303405  0.588433  0.020751  \n",
       "1998-01-04  0.722042 -0.591972 -0.461677 -1.233963  0.775718 -1.628849  \n",
       "1998-01-05 -1.414509 -1.201758 -0.422547  0.813207 -0.099476  0.401425  \n",
       "1998-01-06  0.102077 -0.725054 -0.696012  0.571506  0.180848  1.156768  \n",
       "1998-01-07 -1.533503 -2.793129 -0.607984 -0.160984  1.448740  0.129566  \n",
       "1998-01-08 -1.110577  2.395190 -1.911297 -0.837356 -1.294246  0.835924  \n",
       "1998-01-09 -0.565602  1.333824 -0.085692 -0.267244  0.032667 -1.375153  \n",
       "1998-01-10 -0.259151 -1.109046  0.287860 -1.275539 -0.603001 -1.009800  \n",
       "1998-01-11 -0.764974 -1.233517  1.306418  1.563256 -1.449221  0.315685  \n",
       "1998-01-12  0.629199 -1.843416  0.634917  0.043175 -0.369795  0.686236  "
      ]
     },
     "execution_count": 66,
     "metadata": {},
     "output_type": "execute_result"
    }
   ],
   "source": [
    "df.sort_index(axis=1, ascending=False)"
   ]
  },
  {
   "cell_type": "code",
   "execution_count": 67,
   "metadata": {},
   "outputs": [
    {
     "data": {
      "text/plain": [
       "array([[ 0.88739928,  0.14382871,  0.7857564 ,  1.27651011, -1.74582955,\n",
       "         0.25704047,  0.68459157,  0.55786572, -0.39435329,  0.12254702,\n",
       "         0.29441502,  1.32715268],\n",
       "       [ 2.06380012,  0.29932974,  0.09155271,  0.35443014, -0.25201609,\n",
       "        -0.54520786, -1.10744691, -2.78468524,  0.16149321, -0.46246105,\n",
       "        -0.04980765,  0.52034819],\n",
       "       [-0.30340484, -1.39639634, -0.66010246, -1.13044927,  0.58843276,\n",
       "        -1.43048861,  2.49505601, -0.76208917,  0.02075075, -0.72493721,\n",
       "         1.15118513,  1.75975308],\n",
       "       [-1.23396287,  0.72204211,  1.21052098,  0.68415165,  0.7757176 ,\n",
       "        -0.59197216,  0.08009383, -0.6461447 , -1.62884893, -0.46167738,\n",
       "         0.58543827, -0.18380489],\n",
       "       [ 0.81320659, -1.41450903, -0.45958654, -0.93975212, -0.09947556,\n",
       "        -1.20175767,  0.8617947 ,  0.46686552,  0.40142528, -0.42254674,\n",
       "        -0.67702545,  0.01786934],\n",
       "       [ 0.57150594,  0.10207732,  1.33205859,  1.43134529,  0.18084802,\n",
       "        -0.72505415, -0.68088592,  2.46750186,  1.15676808, -0.69601236,\n",
       "        -0.63739585,  0.03661803],\n",
       "       [-0.1609839 , -1.53350322, -0.78145813, -0.59086248,  1.44874043,\n",
       "        -2.79312937,  0.98864591,  0.59862713,  0.12956626, -0.6079836 ,\n",
       "        -1.22374645, -0.21152747],\n",
       "       [-0.83735599, -1.11057748, -0.49829316,  0.77265715, -1.29424596,\n",
       "         2.39519018,  0.01529228,  0.71881962,  0.83592367, -1.91129709,\n",
       "         0.00631571,  0.12891041],\n",
       "       [-0.26724419, -0.56560241,  0.52555328,  0.07578794,  0.03266733,\n",
       "         1.33382407,  0.38533682,  0.17509431, -1.37515321, -0.08569179,\n",
       "        -0.3942688 , -0.14985655],\n",
       "       [-1.2755391 , -0.25915148,  1.15724387, -0.39141715, -0.60300077,\n",
       "        -1.109046  , -0.66237682,  0.73882001, -1.00980013,  0.28785961,\n",
       "        -0.77839337,  0.16562474],\n",
       "       [ 1.5632556 , -0.76497386,  0.95862194, -0.09555307, -1.44922082,\n",
       "        -1.23351733, -0.69858236, -0.73015333,  0.31568468,  1.30641811,\n",
       "        -1.21893758, -1.47285351],\n",
       "       [ 0.04317472,  0.62919946, -1.3790162 ,  1.80170923, -0.36979471,\n",
       "        -1.84341634,  1.37429349,  0.7868009 ,  0.68623623,  0.63491651,\n",
       "        -0.40965827, -0.0105099 ]])"
      ]
     },
     "execution_count": 67,
     "metadata": {},
     "output_type": "execute_result"
    }
   ],
   "source": [
    "df.values"
   ]
  },
  {
   "cell_type": "code",
   "execution_count": 68,
   "metadata": {},
   "outputs": [
    {
     "data": {
      "text/html": [
       "<div>\n",
       "<style scoped>\n",
       "    .dataframe tbody tr th:only-of-type {\n",
       "        vertical-align: middle;\n",
       "    }\n",
       "\n",
       "    .dataframe tbody tr th {\n",
       "        vertical-align: top;\n",
       "    }\n",
       "\n",
       "    .dataframe thead th {\n",
       "        text-align: right;\n",
       "    }\n",
       "</style>\n",
       "<table border=\"1\" class=\"dataframe\">\n",
       "  <thead>\n",
       "    <tr style=\"text-align: right;\">\n",
       "      <th></th>\n",
       "      <th>A</th>\n",
       "      <th>B</th>\n",
       "      <th>C</th>\n",
       "      <th>D</th>\n",
       "    </tr>\n",
       "  </thead>\n",
       "  <tbody>\n",
       "    <tr>\n",
       "      <th>2013-01-01</th>\n",
       "      <td>-0.559191</td>\n",
       "      <td>-0.229256</td>\n",
       "      <td>-1.605229</td>\n",
       "      <td>1.006079</td>\n",
       "    </tr>\n",
       "    <tr>\n",
       "      <th>2013-01-02</th>\n",
       "      <td>0.469543</td>\n",
       "      <td>-0.070331</td>\n",
       "      <td>-1.618535</td>\n",
       "      <td>0.929587</td>\n",
       "    </tr>\n",
       "    <tr>\n",
       "      <th>2013-01-03</th>\n",
       "      <td>-1.352189</td>\n",
       "      <td>-0.716884</td>\n",
       "      <td>-0.073931</td>\n",
       "      <td>0.896680</td>\n",
       "    </tr>\n",
       "    <tr>\n",
       "      <th>2013-01-04</th>\n",
       "      <td>-1.000905</td>\n",
       "      <td>0.094369</td>\n",
       "      <td>1.189355</td>\n",
       "      <td>1.245139</td>\n",
       "    </tr>\n",
       "    <tr>\n",
       "      <th>2013-01-05</th>\n",
       "      <td>1.073530</td>\n",
       "      <td>-0.788332</td>\n",
       "      <td>-0.088973</td>\n",
       "      <td>-0.236351</td>\n",
       "    </tr>\n",
       "    <tr>\n",
       "      <th>2013-01-06</th>\n",
       "      <td>-0.475172</td>\n",
       "      <td>0.280569</td>\n",
       "      <td>-0.460849</td>\n",
       "      <td>3.248667</td>\n",
       "    </tr>\n",
       "  </tbody>\n",
       "</table>\n",
       "</div>"
      ],
      "text/plain": [
       "                   A         B         C         D\n",
       "2013-01-01 -0.559191 -0.229256 -1.605229  1.006079\n",
       "2013-01-02  0.469543 -0.070331 -1.618535  0.929587\n",
       "2013-01-03 -1.352189 -0.716884 -0.073931  0.896680\n",
       "2013-01-04 -1.000905  0.094369  1.189355  1.245139\n",
       "2013-01-05  1.073530 -0.788332 -0.088973 -0.236351\n",
       "2013-01-06 -0.475172  0.280569 -0.460849  3.248667"
      ]
     },
     "execution_count": 68,
     "metadata": {},
     "output_type": "execute_result"
    }
   ],
   "source": [
    "dates = pd.date_range('20130101', periods=6)\n",
    "df3 = pd.DataFrame(np.random.randn(6,4), index=dates, columns=list('ABCD'))\n",
    "df3"
   ]
  },
  {
   "cell_type": "code",
   "execution_count": 69,
   "metadata": {},
   "outputs": [
    {
     "data": {
      "text/html": [
       "<div>\n",
       "<style scoped>\n",
       "    .dataframe tbody tr th:only-of-type {\n",
       "        vertical-align: middle;\n",
       "    }\n",
       "\n",
       "    .dataframe tbody tr th {\n",
       "        vertical-align: top;\n",
       "    }\n",
       "\n",
       "    .dataframe thead th {\n",
       "        text-align: right;\n",
       "    }\n",
       "</style>\n",
       "<table border=\"1\" class=\"dataframe\">\n",
       "  <thead>\n",
       "    <tr style=\"text-align: right;\">\n",
       "      <th></th>\n",
       "      <th>D</th>\n",
       "      <th>C</th>\n",
       "      <th>B</th>\n",
       "      <th>A</th>\n",
       "    </tr>\n",
       "  </thead>\n",
       "  <tbody>\n",
       "    <tr>\n",
       "      <th>2013-01-01</th>\n",
       "      <td>1.006079</td>\n",
       "      <td>-1.605229</td>\n",
       "      <td>-0.229256</td>\n",
       "      <td>-0.559191</td>\n",
       "    </tr>\n",
       "    <tr>\n",
       "      <th>2013-01-02</th>\n",
       "      <td>0.929587</td>\n",
       "      <td>-1.618535</td>\n",
       "      <td>-0.070331</td>\n",
       "      <td>0.469543</td>\n",
       "    </tr>\n",
       "    <tr>\n",
       "      <th>2013-01-03</th>\n",
       "      <td>0.896680</td>\n",
       "      <td>-0.073931</td>\n",
       "      <td>-0.716884</td>\n",
       "      <td>-1.352189</td>\n",
       "    </tr>\n",
       "    <tr>\n",
       "      <th>2013-01-04</th>\n",
       "      <td>1.245139</td>\n",
       "      <td>1.189355</td>\n",
       "      <td>0.094369</td>\n",
       "      <td>-1.000905</td>\n",
       "    </tr>\n",
       "    <tr>\n",
       "      <th>2013-01-05</th>\n",
       "      <td>-0.236351</td>\n",
       "      <td>-0.088973</td>\n",
       "      <td>-0.788332</td>\n",
       "      <td>1.073530</td>\n",
       "    </tr>\n",
       "    <tr>\n",
       "      <th>2013-01-06</th>\n",
       "      <td>3.248667</td>\n",
       "      <td>-0.460849</td>\n",
       "      <td>0.280569</td>\n",
       "      <td>-0.475172</td>\n",
       "    </tr>\n",
       "  </tbody>\n",
       "</table>\n",
       "</div>"
      ],
      "text/plain": [
       "                   D         C         B         A\n",
       "2013-01-01  1.006079 -1.605229 -0.229256 -0.559191\n",
       "2013-01-02  0.929587 -1.618535 -0.070331  0.469543\n",
       "2013-01-03  0.896680 -0.073931 -0.716884 -1.352189\n",
       "2013-01-04  1.245139  1.189355  0.094369 -1.000905\n",
       "2013-01-05 -0.236351 -0.088973 -0.788332  1.073530\n",
       "2013-01-06  3.248667 -0.460849  0.280569 -0.475172"
      ]
     },
     "execution_count": 69,
     "metadata": {},
     "output_type": "execute_result"
    }
   ],
   "source": [
    "df3.sort_index(axis=1, ascending=False) # sort index"
   ]
  },
  {
   "cell_type": "code",
   "execution_count": 70,
   "metadata": {},
   "outputs": [
    {
     "data": {
      "text/html": [
       "<div>\n",
       "<style scoped>\n",
       "    .dataframe tbody tr th:only-of-type {\n",
       "        vertical-align: middle;\n",
       "    }\n",
       "\n",
       "    .dataframe tbody tr th {\n",
       "        vertical-align: top;\n",
       "    }\n",
       "\n",
       "    .dataframe thead th {\n",
       "        text-align: right;\n",
       "    }\n",
       "</style>\n",
       "<table border=\"1\" class=\"dataframe\">\n",
       "  <thead>\n",
       "    <tr style=\"text-align: right;\">\n",
       "      <th></th>\n",
       "      <th>A</th>\n",
       "      <th>B</th>\n",
       "      <th>C</th>\n",
       "      <th>D</th>\n",
       "    </tr>\n",
       "  </thead>\n",
       "  <tbody>\n",
       "    <tr>\n",
       "      <th>2013-01-06</th>\n",
       "      <td>-0.475172</td>\n",
       "      <td>0.280569</td>\n",
       "      <td>-0.460849</td>\n",
       "      <td>3.248667</td>\n",
       "    </tr>\n",
       "    <tr>\n",
       "      <th>2013-01-05</th>\n",
       "      <td>1.073530</td>\n",
       "      <td>-0.788332</td>\n",
       "      <td>-0.088973</td>\n",
       "      <td>-0.236351</td>\n",
       "    </tr>\n",
       "    <tr>\n",
       "      <th>2013-01-04</th>\n",
       "      <td>-1.000905</td>\n",
       "      <td>0.094369</td>\n",
       "      <td>1.189355</td>\n",
       "      <td>1.245139</td>\n",
       "    </tr>\n",
       "    <tr>\n",
       "      <th>2013-01-03</th>\n",
       "      <td>-1.352189</td>\n",
       "      <td>-0.716884</td>\n",
       "      <td>-0.073931</td>\n",
       "      <td>0.896680</td>\n",
       "    </tr>\n",
       "    <tr>\n",
       "      <th>2013-01-02</th>\n",
       "      <td>0.469543</td>\n",
       "      <td>-0.070331</td>\n",
       "      <td>-1.618535</td>\n",
       "      <td>0.929587</td>\n",
       "    </tr>\n",
       "    <tr>\n",
       "      <th>2013-01-01</th>\n",
       "      <td>-0.559191</td>\n",
       "      <td>-0.229256</td>\n",
       "      <td>-1.605229</td>\n",
       "      <td>1.006079</td>\n",
       "    </tr>\n",
       "  </tbody>\n",
       "</table>\n",
       "</div>"
      ],
      "text/plain": [
       "                   A         B         C         D\n",
       "2013-01-06 -0.475172  0.280569 -0.460849  3.248667\n",
       "2013-01-05  1.073530 -0.788332 -0.088973 -0.236351\n",
       "2013-01-04 -1.000905  0.094369  1.189355  1.245139\n",
       "2013-01-03 -1.352189 -0.716884 -0.073931  0.896680\n",
       "2013-01-02  0.469543 -0.070331 -1.618535  0.929587\n",
       "2013-01-01 -0.559191 -0.229256 -1.605229  1.006079"
      ]
     },
     "execution_count": 70,
     "metadata": {},
     "output_type": "execute_result"
    }
   ],
   "source": [
    "df3.sort_index(axis=0, ascending=False) # sort index"
   ]
  },
  {
   "cell_type": "code",
   "execution_count": 71,
   "metadata": {},
   "outputs": [
    {
     "data": {
      "text/html": [
       "<div>\n",
       "<style scoped>\n",
       "    .dataframe tbody tr th:only-of-type {\n",
       "        vertical-align: middle;\n",
       "    }\n",
       "\n",
       "    .dataframe tbody tr th {\n",
       "        vertical-align: top;\n",
       "    }\n",
       "\n",
       "    .dataframe thead th {\n",
       "        text-align: right;\n",
       "    }\n",
       "</style>\n",
       "<table border=\"1\" class=\"dataframe\">\n",
       "  <thead>\n",
       "    <tr style=\"text-align: right;\">\n",
       "      <th></th>\n",
       "      <th>A</th>\n",
       "      <th>B</th>\n",
       "      <th>C</th>\n",
       "      <th>D</th>\n",
       "    </tr>\n",
       "  </thead>\n",
       "  <tbody>\n",
       "    <tr>\n",
       "      <th>2013-01-05</th>\n",
       "      <td>1.073530</td>\n",
       "      <td>-0.788332</td>\n",
       "      <td>-0.088973</td>\n",
       "      <td>-0.236351</td>\n",
       "    </tr>\n",
       "    <tr>\n",
       "      <th>2013-01-02</th>\n",
       "      <td>0.469543</td>\n",
       "      <td>-0.070331</td>\n",
       "      <td>-1.618535</td>\n",
       "      <td>0.929587</td>\n",
       "    </tr>\n",
       "    <tr>\n",
       "      <th>2013-01-06</th>\n",
       "      <td>-0.475172</td>\n",
       "      <td>0.280569</td>\n",
       "      <td>-0.460849</td>\n",
       "      <td>3.248667</td>\n",
       "    </tr>\n",
       "    <tr>\n",
       "      <th>2013-01-01</th>\n",
       "      <td>-0.559191</td>\n",
       "      <td>-0.229256</td>\n",
       "      <td>-1.605229</td>\n",
       "      <td>1.006079</td>\n",
       "    </tr>\n",
       "    <tr>\n",
       "      <th>2013-01-04</th>\n",
       "      <td>-1.000905</td>\n",
       "      <td>0.094369</td>\n",
       "      <td>1.189355</td>\n",
       "      <td>1.245139</td>\n",
       "    </tr>\n",
       "    <tr>\n",
       "      <th>2013-01-03</th>\n",
       "      <td>-1.352189</td>\n",
       "      <td>-0.716884</td>\n",
       "      <td>-0.073931</td>\n",
       "      <td>0.896680</td>\n",
       "    </tr>\n",
       "  </tbody>\n",
       "</table>\n",
       "</div>"
      ],
      "text/plain": [
       "                   A         B         C         D\n",
       "2013-01-05  1.073530 -0.788332 -0.088973 -0.236351\n",
       "2013-01-02  0.469543 -0.070331 -1.618535  0.929587\n",
       "2013-01-06 -0.475172  0.280569 -0.460849  3.248667\n",
       "2013-01-01 -0.559191 -0.229256 -1.605229  1.006079\n",
       "2013-01-04 -1.000905  0.094369  1.189355  1.245139\n",
       "2013-01-03 -1.352189 -0.716884 -0.073931  0.896680"
      ]
     },
     "execution_count": 71,
     "metadata": {},
     "output_type": "execute_result"
    }
   ],
   "source": [
    "df3.sort_values(by=['A','B'], ascending=False) # SORTY BY COLUMN values"
   ]
  },
  {
   "cell_type": "code",
   "execution_count": 72,
   "metadata": {},
   "outputs": [
    {
     "data": {
      "text/plain": [
       "2013-01-01   -0.559191\n",
       "2013-01-02    0.469543\n",
       "2013-01-03   -1.352189\n",
       "2013-01-04   -1.000905\n",
       "2013-01-05    1.073530\n",
       "2013-01-06   -0.475172\n",
       "Freq: D, Name: A, dtype: float64"
      ]
     },
     "execution_count": 72,
     "metadata": {},
     "output_type": "execute_result"
    }
   ],
   "source": [
    "df3['A']"
   ]
  },
  {
   "cell_type": "code",
   "execution_count": 73,
   "metadata": {},
   "outputs": [
    {
     "data": {
      "text/plain": [
       "'sudeep \\t\\n\\r\\x0b\\x0c!\"#$%&\\'()*+,-./:;<=>?@[\\\\]^_`{|}~0123456789abcdefABCDEF01234567'"
      ]
     },
     "execution_count": 73,
     "metadata": {},
     "output_type": "execute_result"
    }
   ],
   "source": [
    "v='sudeep' + string.whitespace + string.punctuation + string.hexdigits + string.octdigits\n",
    "v"
   ]
  },
  {
   "cell_type": "code",
   "execution_count": 74,
   "metadata": {},
   "outputs": [
    {
     "data": {
      "text/html": [
       "<div>\n",
       "<style scoped>\n",
       "    .dataframe tbody tr th:only-of-type {\n",
       "        vertical-align: middle;\n",
       "    }\n",
       "\n",
       "    .dataframe tbody tr th {\n",
       "        vertical-align: top;\n",
       "    }\n",
       "\n",
       "    .dataframe thead th {\n",
       "        text-align: right;\n",
       "    }\n",
       "</style>\n",
       "<table border=\"1\" class=\"dataframe\">\n",
       "  <thead>\n",
       "    <tr style=\"text-align: right;\">\n",
       "      <th></th>\n",
       "      <th>A</th>\n",
       "      <th>B</th>\n",
       "      <th>C</th>\n",
       "      <th>D</th>\n",
       "    </tr>\n",
       "  </thead>\n",
       "  <tbody>\n",
       "    <tr>\n",
       "      <th>2013-01-01</th>\n",
       "      <td>-0.559191</td>\n",
       "      <td>-0.229256</td>\n",
       "      <td>-1.605229</td>\n",
       "      <td>1.006079</td>\n",
       "    </tr>\n",
       "    <tr>\n",
       "      <th>2013-01-02</th>\n",
       "      <td>0.469543</td>\n",
       "      <td>-0.070331</td>\n",
       "      <td>-1.618535</td>\n",
       "      <td>0.929587</td>\n",
       "    </tr>\n",
       "    <tr>\n",
       "      <th>2013-01-03</th>\n",
       "      <td>-1.352189</td>\n",
       "      <td>-0.716884</td>\n",
       "      <td>-0.073931</td>\n",
       "      <td>0.896680</td>\n",
       "    </tr>\n",
       "  </tbody>\n",
       "</table>\n",
       "</div>"
      ],
      "text/plain": [
       "                   A         B         C         D\n",
       "2013-01-01 -0.559191 -0.229256 -1.605229  1.006079\n",
       "2013-01-02  0.469543 -0.070331 -1.618535  0.929587\n",
       "2013-01-03 -1.352189 -0.716884 -0.073931  0.896680"
      ]
     },
     "execution_count": 74,
     "metadata": {},
     "output_type": "execute_result"
    }
   ],
   "source": [
    "df3[0:3]"
   ]
  },
  {
   "cell_type": "code",
   "execution_count": 75,
   "metadata": {},
   "outputs": [
    {
     "data": {
      "text/html": [
       "<div>\n",
       "<style scoped>\n",
       "    .dataframe tbody tr th:only-of-type {\n",
       "        vertical-align: middle;\n",
       "    }\n",
       "\n",
       "    .dataframe tbody tr th {\n",
       "        vertical-align: top;\n",
       "    }\n",
       "\n",
       "    .dataframe thead th {\n",
       "        text-align: right;\n",
       "    }\n",
       "</style>\n",
       "<table border=\"1\" class=\"dataframe\">\n",
       "  <thead>\n",
       "    <tr style=\"text-align: right;\">\n",
       "      <th></th>\n",
       "      <th>A</th>\n",
       "      <th>B</th>\n",
       "      <th>C</th>\n",
       "      <th>D</th>\n",
       "    </tr>\n",
       "  </thead>\n",
       "  <tbody>\n",
       "    <tr>\n",
       "      <th>2013-01-02</th>\n",
       "      <td>0.469543</td>\n",
       "      <td>-0.070331</td>\n",
       "      <td>-1.618535</td>\n",
       "      <td>0.929587</td>\n",
       "    </tr>\n",
       "    <tr>\n",
       "      <th>2013-01-03</th>\n",
       "      <td>-1.352189</td>\n",
       "      <td>-0.716884</td>\n",
       "      <td>-0.073931</td>\n",
       "      <td>0.896680</td>\n",
       "    </tr>\n",
       "    <tr>\n",
       "      <th>2013-01-04</th>\n",
       "      <td>-1.000905</td>\n",
       "      <td>0.094369</td>\n",
       "      <td>1.189355</td>\n",
       "      <td>1.245139</td>\n",
       "    </tr>\n",
       "  </tbody>\n",
       "</table>\n",
       "</div>"
      ],
      "text/plain": [
       "                   A         B         C         D\n",
       "2013-01-02  0.469543 -0.070331 -1.618535  0.929587\n",
       "2013-01-03 -1.352189 -0.716884 -0.073931  0.896680\n",
       "2013-01-04 -1.000905  0.094369  1.189355  1.245139"
      ]
     },
     "execution_count": 75,
     "metadata": {},
     "output_type": "execute_result"
    }
   ],
   "source": [
    " df3['20130102':'20130104']"
   ]
  },
  {
   "cell_type": "code",
   "execution_count": 76,
   "metadata": {},
   "outputs": [
    {
     "data": {
      "text/plain": [
       "A    0.469543\n",
       "B   -0.070331\n",
       "C   -1.618535\n",
       "D    0.929587\n",
       "Name: 2013-01-02 00:00:00, dtype: float64"
      ]
     },
     "execution_count": 76,
     "metadata": {},
     "output_type": "execute_result"
    }
   ],
   "source": [
    "df3.loc[dates[1]] # by index"
   ]
  },
  {
   "cell_type": "code",
   "execution_count": 77,
   "metadata": {},
   "outputs": [
    {
     "data": {
      "text/html": [
       "<div>\n",
       "<style scoped>\n",
       "    .dataframe tbody tr th:only-of-type {\n",
       "        vertical-align: middle;\n",
       "    }\n",
       "\n",
       "    .dataframe tbody tr th {\n",
       "        vertical-align: top;\n",
       "    }\n",
       "\n",
       "    .dataframe thead th {\n",
       "        text-align: right;\n",
       "    }\n",
       "</style>\n",
       "<table border=\"1\" class=\"dataframe\">\n",
       "  <thead>\n",
       "    <tr style=\"text-align: right;\">\n",
       "      <th></th>\n",
       "      <th>A</th>\n",
       "      <th>B</th>\n",
       "    </tr>\n",
       "  </thead>\n",
       "  <tbody>\n",
       "    <tr>\n",
       "      <th>2013-01-01</th>\n",
       "      <td>-0.559191</td>\n",
       "      <td>-0.229256</td>\n",
       "    </tr>\n",
       "    <tr>\n",
       "      <th>2013-01-02</th>\n",
       "      <td>0.469543</td>\n",
       "      <td>-0.070331</td>\n",
       "    </tr>\n",
       "  </tbody>\n",
       "</table>\n",
       "</div>"
      ],
      "text/plain": [
       "                   A         B\n",
       "2013-01-01 -0.559191 -0.229256\n",
       "2013-01-02  0.469543 -0.070331"
      ]
     },
     "execution_count": 77,
     "metadata": {},
     "output_type": "execute_result"
    }
   ],
   "source": [
    "df3.loc[dates[0]:dates[1],['A','B']]"
   ]
  },
  {
   "cell_type": "code",
   "execution_count": 78,
   "metadata": {},
   "outputs": [
    {
     "data": {
      "text/html": [
       "<div>\n",
       "<style scoped>\n",
       "    .dataframe tbody tr th:only-of-type {\n",
       "        vertical-align: middle;\n",
       "    }\n",
       "\n",
       "    .dataframe tbody tr th {\n",
       "        vertical-align: top;\n",
       "    }\n",
       "\n",
       "    .dataframe thead th {\n",
       "        text-align: right;\n",
       "    }\n",
       "</style>\n",
       "<table border=\"1\" class=\"dataframe\">\n",
       "  <thead>\n",
       "    <tr style=\"text-align: right;\">\n",
       "      <th></th>\n",
       "      <th>A</th>\n",
       "    </tr>\n",
       "  </thead>\n",
       "  <tbody>\n",
       "    <tr>\n",
       "      <th>2013-01-01</th>\n",
       "      <td>-0.559191</td>\n",
       "    </tr>\n",
       "    <tr>\n",
       "      <th>2013-01-02</th>\n",
       "      <td>0.469543</td>\n",
       "    </tr>\n",
       "  </tbody>\n",
       "</table>\n",
       "</div>"
      ],
      "text/plain": [
       "                   A\n",
       "2013-01-01 -0.559191\n",
       "2013-01-02  0.469543"
      ]
     },
     "execution_count": 78,
     "metadata": {},
     "output_type": "execute_result"
    }
   ],
   "source": [
    "df3.loc['20130101':'20130102',['A']]"
   ]
  },
  {
   "cell_type": "code",
   "execution_count": 79,
   "metadata": {},
   "outputs": [
    {
     "data": {
      "text/plain": [
       "A    0.469543\n",
       "B   -0.070331\n",
       "Name: 2013-01-02 00:00:00, dtype: float64"
      ]
     },
     "execution_count": 79,
     "metadata": {},
     "output_type": "execute_result"
    }
   ],
   "source": [
    "df3.loc['20130102', ['A', 'B']]"
   ]
  },
  {
   "cell_type": "code",
   "execution_count": 80,
   "metadata": {},
   "outputs": [
    {
     "data": {
      "text/plain": [
       "-1.3521889442095791"
      ]
     },
     "execution_count": 80,
     "metadata": {},
     "output_type": "execute_result"
    }
   ],
   "source": [
    "df3.loc[dates[2], 'A'] # Scalar value"
   ]
  },
  {
   "cell_type": "code",
   "execution_count": 81,
   "metadata": {},
   "outputs": [],
   "source": [
    "idx = df3.index"
   ]
  },
  {
   "cell_type": "code",
   "execution_count": 82,
   "metadata": {},
   "outputs": [
    {
     "data": {
      "text/plain": [
       "array(['2013-01-01T00:00:00.000000000', '2013-01-02T00:00:00.000000000',\n",
       "       '2013-01-03T00:00:00.000000000', '2013-01-04T00:00:00.000000000',\n",
       "       '2013-01-05T00:00:00.000000000', '2013-01-06T00:00:00.000000000'],\n",
       "      dtype='datetime64[ns]')"
      ]
     },
     "execution_count": 82,
     "metadata": {},
     "output_type": "execute_result"
    }
   ],
   "source": [
    "idx.values"
   ]
  },
  {
   "cell_type": "code",
   "execution_count": 83,
   "metadata": {},
   "outputs": [
    {
     "data": {
      "text/plain": [
       "dtype('float64')"
      ]
     },
     "execution_count": 83,
     "metadata": {},
     "output_type": "execute_result"
    }
   ],
   "source": [
    "L =df3.loc[idx[0]]\n",
    "L.dtype"
   ]
  },
  {
   "cell_type": "code",
   "execution_count": 84,
   "metadata": {},
   "outputs": [
    {
     "data": {
      "text/plain": [
       "-0.5591907548704473"
      ]
     },
     "execution_count": 84,
     "metadata": {},
     "output_type": "execute_result"
    }
   ],
   "source": [
    "df3.at[dates[0], 'A']"
   ]
  },
  {
   "cell_type": "code",
   "execution_count": 85,
   "metadata": {},
   "outputs": [
    {
     "data": {
      "text/html": [
       "<div>\n",
       "<style scoped>\n",
       "    .dataframe tbody tr th:only-of-type {\n",
       "        vertical-align: middle;\n",
       "    }\n",
       "\n",
       "    .dataframe tbody tr th {\n",
       "        vertical-align: top;\n",
       "    }\n",
       "\n",
       "    .dataframe thead th {\n",
       "        text-align: right;\n",
       "    }\n",
       "</style>\n",
       "<table border=\"1\" class=\"dataframe\">\n",
       "  <thead>\n",
       "    <tr style=\"text-align: right;\">\n",
       "      <th></th>\n",
       "      <th>A</th>\n",
       "      <th>B</th>\n",
       "      <th>C</th>\n",
       "      <th>D</th>\n",
       "    </tr>\n",
       "  </thead>\n",
       "  <tbody>\n",
       "    <tr>\n",
       "      <th>2013-01-01</th>\n",
       "      <td>-0.559191</td>\n",
       "      <td>-0.229256</td>\n",
       "      <td>-1.605229</td>\n",
       "      <td>1.006079</td>\n",
       "    </tr>\n",
       "    <tr>\n",
       "      <th>2013-01-02</th>\n",
       "      <td>0.469543</td>\n",
       "      <td>-0.070331</td>\n",
       "      <td>-1.618535</td>\n",
       "      <td>0.929587</td>\n",
       "    </tr>\n",
       "    <tr>\n",
       "      <th>2013-01-03</th>\n",
       "      <td>-1.352189</td>\n",
       "      <td>-0.716884</td>\n",
       "      <td>-0.073931</td>\n",
       "      <td>0.896680</td>\n",
       "    </tr>\n",
       "  </tbody>\n",
       "</table>\n",
       "</div>"
      ],
      "text/plain": [
       "                   A         B         C         D\n",
       "2013-01-01 -0.559191 -0.229256 -1.605229  1.006079\n",
       "2013-01-02  0.469543 -0.070331 -1.618535  0.929587\n",
       "2013-01-03 -1.352189 -0.716884 -0.073931  0.896680"
      ]
     },
     "execution_count": 85,
     "metadata": {},
     "output_type": "execute_result"
    }
   ],
   "source": [
    "df3.iloc[0:3]"
   ]
  },
  {
   "cell_type": "code",
   "execution_count": 86,
   "metadata": {},
   "outputs": [
    {
     "data": {
      "text/html": [
       "<div>\n",
       "<style scoped>\n",
       "    .dataframe tbody tr th:only-of-type {\n",
       "        vertical-align: middle;\n",
       "    }\n",
       "\n",
       "    .dataframe tbody tr th {\n",
       "        vertical-align: top;\n",
       "    }\n",
       "\n",
       "    .dataframe thead th {\n",
       "        text-align: right;\n",
       "    }\n",
       "</style>\n",
       "<table border=\"1\" class=\"dataframe\">\n",
       "  <thead>\n",
       "    <tr style=\"text-align: right;\">\n",
       "      <th></th>\n",
       "      <th>A</th>\n",
       "      <th>B</th>\n",
       "    </tr>\n",
       "  </thead>\n",
       "  <tbody>\n",
       "    <tr>\n",
       "      <th>2013-01-04</th>\n",
       "      <td>-1.000905</td>\n",
       "      <td>0.094369</td>\n",
       "    </tr>\n",
       "    <tr>\n",
       "      <th>2013-01-05</th>\n",
       "      <td>1.073530</td>\n",
       "      <td>-0.788332</td>\n",
       "    </tr>\n",
       "  </tbody>\n",
       "</table>\n",
       "</div>"
      ],
      "text/plain": [
       "                   A         B\n",
       "2013-01-04 -1.000905  0.094369\n",
       "2013-01-05  1.073530 -0.788332"
      ]
     },
     "execution_count": 86,
     "metadata": {},
     "output_type": "execute_result"
    }
   ],
   "source": [
    "df3.iloc[3:5, 0:2]"
   ]
  },
  {
   "cell_type": "code",
   "execution_count": 87,
   "metadata": {},
   "outputs": [
    {
     "data": {
      "text/html": [
       "<div>\n",
       "<style scoped>\n",
       "    .dataframe tbody tr th:only-of-type {\n",
       "        vertical-align: middle;\n",
       "    }\n",
       "\n",
       "    .dataframe tbody tr th {\n",
       "        vertical-align: top;\n",
       "    }\n",
       "\n",
       "    .dataframe thead th {\n",
       "        text-align: right;\n",
       "    }\n",
       "</style>\n",
       "<table border=\"1\" class=\"dataframe\">\n",
       "  <thead>\n",
       "    <tr style=\"text-align: right;\">\n",
       "      <th></th>\n",
       "      <th>A</th>\n",
       "      <th>B</th>\n",
       "      <th>C</th>\n",
       "      <th>D</th>\n",
       "    </tr>\n",
       "  </thead>\n",
       "  <tbody>\n",
       "    <tr>\n",
       "      <th>2013-01-01</th>\n",
       "      <td>-0.559191</td>\n",
       "      <td>-0.229256</td>\n",
       "      <td>-1.605229</td>\n",
       "      <td>1.006079</td>\n",
       "    </tr>\n",
       "    <tr>\n",
       "      <th>2013-01-02</th>\n",
       "      <td>0.469543</td>\n",
       "      <td>-0.070331</td>\n",
       "      <td>-1.618535</td>\n",
       "      <td>0.929587</td>\n",
       "    </tr>\n",
       "    <tr>\n",
       "      <th>2013-01-03</th>\n",
       "      <td>-1.352189</td>\n",
       "      <td>-0.716884</td>\n",
       "      <td>-0.073931</td>\n",
       "      <td>0.896680</td>\n",
       "    </tr>\n",
       "    <tr>\n",
       "      <th>2013-01-04</th>\n",
       "      <td>-1.000905</td>\n",
       "      <td>0.094369</td>\n",
       "      <td>1.189355</td>\n",
       "      <td>1.245139</td>\n",
       "    </tr>\n",
       "    <tr>\n",
       "      <th>2013-01-05</th>\n",
       "      <td>1.073530</td>\n",
       "      <td>-0.788332</td>\n",
       "      <td>-0.088973</td>\n",
       "      <td>-0.236351</td>\n",
       "    </tr>\n",
       "    <tr>\n",
       "      <th>2013-01-06</th>\n",
       "      <td>-0.475172</td>\n",
       "      <td>0.280569</td>\n",
       "      <td>-0.460849</td>\n",
       "      <td>3.248667</td>\n",
       "    </tr>\n",
       "  </tbody>\n",
       "</table>\n",
       "</div>"
      ],
      "text/plain": [
       "                   A         B         C         D\n",
       "2013-01-01 -0.559191 -0.229256 -1.605229  1.006079\n",
       "2013-01-02  0.469543 -0.070331 -1.618535  0.929587\n",
       "2013-01-03 -1.352189 -0.716884 -0.073931  0.896680\n",
       "2013-01-04 -1.000905  0.094369  1.189355  1.245139\n",
       "2013-01-05  1.073530 -0.788332 -0.088973 -0.236351\n",
       "2013-01-06 -0.475172  0.280569 -0.460849  3.248667"
      ]
     },
     "execution_count": 87,
     "metadata": {},
     "output_type": "execute_result"
    }
   ],
   "source": [
    "df3"
   ]
  },
  {
   "cell_type": "code",
   "execution_count": 88,
   "metadata": {},
   "outputs": [
    {
     "data": {
      "text/html": [
       "<div>\n",
       "<style scoped>\n",
       "    .dataframe tbody tr th:only-of-type {\n",
       "        vertical-align: middle;\n",
       "    }\n",
       "\n",
       "    .dataframe tbody tr th {\n",
       "        vertical-align: top;\n",
       "    }\n",
       "\n",
       "    .dataframe thead th {\n",
       "        text-align: right;\n",
       "    }\n",
       "</style>\n",
       "<table border=\"1\" class=\"dataframe\">\n",
       "  <thead>\n",
       "    <tr style=\"text-align: right;\">\n",
       "      <th></th>\n",
       "      <th>A</th>\n",
       "      <th>C</th>\n",
       "    </tr>\n",
       "  </thead>\n",
       "  <tbody>\n",
       "    <tr>\n",
       "      <th>2013-01-02</th>\n",
       "      <td>0.469543</td>\n",
       "      <td>-1.618535</td>\n",
       "    </tr>\n",
       "    <tr>\n",
       "      <th>2013-01-03</th>\n",
       "      <td>-1.352189</td>\n",
       "      <td>-0.073931</td>\n",
       "    </tr>\n",
       "    <tr>\n",
       "      <th>2013-01-05</th>\n",
       "      <td>1.073530</td>\n",
       "      <td>-0.088973</td>\n",
       "    </tr>\n",
       "  </tbody>\n",
       "</table>\n",
       "</div>"
      ],
      "text/plain": [
       "                   A         C\n",
       "2013-01-02  0.469543 -1.618535\n",
       "2013-01-03 -1.352189 -0.073931\n",
       "2013-01-05  1.073530 -0.088973"
      ]
     },
     "execution_count": 88,
     "metadata": {},
     "output_type": "execute_result"
    }
   ],
   "source": [
    "df3.iloc[[1, 2, 4], [0, 2]]"
   ]
  },
  {
   "cell_type": "code",
   "execution_count": 89,
   "metadata": {},
   "outputs": [
    {
     "data": {
      "text/html": [
       "<div>\n",
       "<style scoped>\n",
       "    .dataframe tbody tr th:only-of-type {\n",
       "        vertical-align: middle;\n",
       "    }\n",
       "\n",
       "    .dataframe tbody tr th {\n",
       "        vertical-align: top;\n",
       "    }\n",
       "\n",
       "    .dataframe thead th {\n",
       "        text-align: right;\n",
       "    }\n",
       "</style>\n",
       "<table border=\"1\" class=\"dataframe\">\n",
       "  <thead>\n",
       "    <tr style=\"text-align: right;\">\n",
       "      <th></th>\n",
       "      <th>1</th>\n",
       "      <th>2</th>\n",
       "      <th>3</th>\n",
       "      <th>4</th>\n",
       "      <th>1</th>\n",
       "      <th>2</th>\n",
       "      <th>3</th>\n",
       "      <th>4</th>\n",
       "      <th>1</th>\n",
       "      <th>2</th>\n",
       "      <th>3</th>\n",
       "      <th>4</th>\n",
       "    </tr>\n",
       "  </thead>\n",
       "  <tbody>\n",
       "    <tr>\n",
       "      <th>1998-01-02</th>\n",
       "      <td>2.063800</td>\n",
       "      <td>0.299330</td>\n",
       "      <td>0.091553</td>\n",
       "      <td>0.354430</td>\n",
       "      <td>-0.252016</td>\n",
       "      <td>-0.545208</td>\n",
       "      <td>-1.107447</td>\n",
       "      <td>-2.784685</td>\n",
       "      <td>0.161493</td>\n",
       "      <td>-0.462461</td>\n",
       "      <td>-0.049808</td>\n",
       "      <td>0.520348</td>\n",
       "    </tr>\n",
       "    <tr>\n",
       "      <th>1998-01-03</th>\n",
       "      <td>-0.303405</td>\n",
       "      <td>-1.396396</td>\n",
       "      <td>-0.660102</td>\n",
       "      <td>-1.130449</td>\n",
       "      <td>0.588433</td>\n",
       "      <td>-1.430489</td>\n",
       "      <td>2.495056</td>\n",
       "      <td>-0.762089</td>\n",
       "      <td>0.020751</td>\n",
       "      <td>-0.724937</td>\n",
       "      <td>1.151185</td>\n",
       "      <td>1.759753</td>\n",
       "    </tr>\n",
       "  </tbody>\n",
       "</table>\n",
       "</div>"
      ],
      "text/plain": [
       "                   1         2         3         4         1         2  \\\n",
       "1998-01-02  2.063800  0.299330  0.091553  0.354430 -0.252016 -0.545208   \n",
       "1998-01-03 -0.303405 -1.396396 -0.660102 -1.130449  0.588433 -1.430489   \n",
       "\n",
       "                   3         4         1         2         3         4  \n",
       "1998-01-02 -1.107447 -2.784685  0.161493 -0.462461 -0.049808  0.520348  \n",
       "1998-01-03  2.495056 -0.762089  0.020751 -0.724937  1.151185  1.759753  "
      ]
     },
     "execution_count": 89,
     "metadata": {},
     "output_type": "execute_result"
    }
   ],
   "source": [
    "df.iloc[1:3,:]"
   ]
  },
  {
   "cell_type": "code",
   "execution_count": 90,
   "metadata": {},
   "outputs": [
    {
     "data": {
      "text/plain": [
       "6"
      ]
     },
     "execution_count": 90,
     "metadata": {},
     "output_type": "execute_result"
    }
   ],
   "source": [
    "len(df3['A'])"
   ]
  },
  {
   "cell_type": "code",
   "execution_count": null,
   "metadata": {},
   "outputs": [],
   "source": []
  },
  {
   "cell_type": "code",
   "execution_count": 91,
   "metadata": {},
   "outputs": [
    {
     "data": {
      "text/html": [
       "<div>\n",
       "<style scoped>\n",
       "    .dataframe tbody tr th:only-of-type {\n",
       "        vertical-align: middle;\n",
       "    }\n",
       "\n",
       "    .dataframe tbody tr th {\n",
       "        vertical-align: top;\n",
       "    }\n",
       "\n",
       "    .dataframe thead th {\n",
       "        text-align: right;\n",
       "    }\n",
       "</style>\n",
       "<table border=\"1\" class=\"dataframe\">\n",
       "  <thead>\n",
       "    <tr style=\"text-align: right;\">\n",
       "      <th></th>\n",
       "      <th>A</th>\n",
       "      <th>B</th>\n",
       "      <th>C</th>\n",
       "      <th>D</th>\n",
       "    </tr>\n",
       "  </thead>\n",
       "  <tbody>\n",
       "    <tr>\n",
       "      <th>2013-01-04</th>\n",
       "      <td>-1.000905</td>\n",
       "      <td>0.094369</td>\n",
       "      <td>1.189355</td>\n",
       "      <td>1.245139</td>\n",
       "    </tr>\n",
       "    <tr>\n",
       "      <th>2013-01-05</th>\n",
       "      <td>1.073530</td>\n",
       "      <td>-0.788332</td>\n",
       "      <td>-0.088973</td>\n",
       "      <td>-0.236351</td>\n",
       "    </tr>\n",
       "    <tr>\n",
       "      <th>2013-01-06</th>\n",
       "      <td>-0.475172</td>\n",
       "      <td>0.280569</td>\n",
       "      <td>-0.460849</td>\n",
       "      <td>3.248667</td>\n",
       "    </tr>\n",
       "  </tbody>\n",
       "</table>\n",
       "</div>"
      ],
      "text/plain": [
       "                   A         B         C         D\n",
       "2013-01-04 -1.000905  0.094369  1.189355  1.245139\n",
       "2013-01-05  1.073530 -0.788332 -0.088973 -0.236351\n",
       "2013-01-06 -0.475172  0.280569 -0.460849  3.248667"
      ]
     },
     "execution_count": 91,
     "metadata": {},
     "output_type": "execute_result"
    }
   ],
   "source": [
    "df3.iloc[3:, :]"
   ]
  },
  {
   "cell_type": "code",
   "execution_count": 92,
   "metadata": {},
   "outputs": [
    {
     "data": {
      "text/plain": [
       "A   -1.000905\n",
       "B    0.094369\n",
       "C    1.189355\n",
       "D    1.245139\n",
       "Name: 2013-01-04 00:00:00, dtype: float64"
      ]
     },
     "execution_count": 92,
     "metadata": {},
     "output_type": "execute_result"
    }
   ],
   "source": [
    "df3.iloc[3]"
   ]
  },
  {
   "cell_type": "code",
   "execution_count": 93,
   "metadata": {},
   "outputs": [
    {
     "data": {
      "text/html": [
       "<div>\n",
       "<style scoped>\n",
       "    .dataframe tbody tr th:only-of-type {\n",
       "        vertical-align: middle;\n",
       "    }\n",
       "\n",
       "    .dataframe tbody tr th {\n",
       "        vertical-align: top;\n",
       "    }\n",
       "\n",
       "    .dataframe thead th {\n",
       "        text-align: right;\n",
       "    }\n",
       "</style>\n",
       "<table border=\"1\" class=\"dataframe\">\n",
       "  <thead>\n",
       "    <tr style=\"text-align: right;\">\n",
       "      <th></th>\n",
       "      <th>A</th>\n",
       "      <th>B</th>\n",
       "      <th>C</th>\n",
       "      <th>D</th>\n",
       "    </tr>\n",
       "  </thead>\n",
       "  <tbody>\n",
       "    <tr>\n",
       "      <th>2013-01-02</th>\n",
       "      <td>0.469543</td>\n",
       "      <td>-0.070331</td>\n",
       "      <td>-1.618535</td>\n",
       "      <td>0.929587</td>\n",
       "    </tr>\n",
       "    <tr>\n",
       "      <th>2013-01-03</th>\n",
       "      <td>-1.352189</td>\n",
       "      <td>-0.716884</td>\n",
       "      <td>-0.073931</td>\n",
       "      <td>0.896680</td>\n",
       "    </tr>\n",
       "  </tbody>\n",
       "</table>\n",
       "</div>"
      ],
      "text/plain": [
       "                   A         B         C         D\n",
       "2013-01-02  0.469543 -0.070331 -1.618535  0.929587\n",
       "2013-01-03 -1.352189 -0.716884 -0.073931  0.896680"
      ]
     },
     "execution_count": 93,
     "metadata": {},
     "output_type": "execute_result"
    }
   ],
   "source": [
    "df3.iloc[1:3,:]"
   ]
  },
  {
   "cell_type": "code",
   "execution_count": 94,
   "metadata": {},
   "outputs": [
    {
     "data": {
      "text/html": [
       "<div>\n",
       "<style scoped>\n",
       "    .dataframe tbody tr th:only-of-type {\n",
       "        vertical-align: middle;\n",
       "    }\n",
       "\n",
       "    .dataframe tbody tr th {\n",
       "        vertical-align: top;\n",
       "    }\n",
       "\n",
       "    .dataframe thead th {\n",
       "        text-align: right;\n",
       "    }\n",
       "</style>\n",
       "<table border=\"1\" class=\"dataframe\">\n",
       "  <thead>\n",
       "    <tr style=\"text-align: right;\">\n",
       "      <th></th>\n",
       "      <th>B</th>\n",
       "      <th>C</th>\n",
       "    </tr>\n",
       "  </thead>\n",
       "  <tbody>\n",
       "    <tr>\n",
       "      <th>2013-01-01</th>\n",
       "      <td>-0.229256</td>\n",
       "      <td>-1.605229</td>\n",
       "    </tr>\n",
       "    <tr>\n",
       "      <th>2013-01-02</th>\n",
       "      <td>-0.070331</td>\n",
       "      <td>-1.618535</td>\n",
       "    </tr>\n",
       "    <tr>\n",
       "      <th>2013-01-03</th>\n",
       "      <td>-0.716884</td>\n",
       "      <td>-0.073931</td>\n",
       "    </tr>\n",
       "    <tr>\n",
       "      <th>2013-01-04</th>\n",
       "      <td>0.094369</td>\n",
       "      <td>1.189355</td>\n",
       "    </tr>\n",
       "    <tr>\n",
       "      <th>2013-01-05</th>\n",
       "      <td>-0.788332</td>\n",
       "      <td>-0.088973</td>\n",
       "    </tr>\n",
       "    <tr>\n",
       "      <th>2013-01-06</th>\n",
       "      <td>0.280569</td>\n",
       "      <td>-0.460849</td>\n",
       "    </tr>\n",
       "  </tbody>\n",
       "</table>\n",
       "</div>"
      ],
      "text/plain": [
       "                   B         C\n",
       "2013-01-01 -0.229256 -1.605229\n",
       "2013-01-02 -0.070331 -1.618535\n",
       "2013-01-03 -0.716884 -0.073931\n",
       "2013-01-04  0.094369  1.189355\n",
       "2013-01-05 -0.788332 -0.088973\n",
       "2013-01-06  0.280569 -0.460849"
      ]
     },
     "execution_count": 94,
     "metadata": {},
     "output_type": "execute_result"
    }
   ],
   "source": [
    "ll = df3.iloc[:, 1:3]\n",
    "ll"
   ]
  },
  {
   "cell_type": "code",
   "execution_count": 95,
   "metadata": {},
   "outputs": [
    {
     "data": {
      "text/plain": [
       "-0.07033061389475126"
      ]
     },
     "execution_count": 95,
     "metadata": {},
     "output_type": "execute_result"
    }
   ],
   "source": [
    "df3.iat[1, 1]"
   ]
  },
  {
   "cell_type": "code",
   "execution_count": 96,
   "metadata": {},
   "outputs": [
    {
     "data": {
      "text/plain": [
       "[2013-01-01    False\n",
       " 2013-01-02    False\n",
       " 2013-01-03    False\n",
       " 2013-01-04    False\n",
       " 2013-01-05     True\n",
       " 2013-01-06    False\n",
       " Freq: D, Name: A, dtype: bool]"
      ]
     },
     "execution_count": 96,
     "metadata": {},
     "output_type": "execute_result"
    }
   ],
   "source": [
    "BL = [df3.A > 1]\n",
    "BL"
   ]
  },
  {
   "cell_type": "code",
   "execution_count": 97,
   "metadata": {},
   "outputs": [
    {
     "data": {
      "text/plain": [
       "2013-01-01   -0.559191\n",
       "2013-01-02    0.469543\n",
       "2013-01-03   -1.352189\n",
       "2013-01-04   -1.000905\n",
       "2013-01-05    1.073530\n",
       "2013-01-06   -0.475172\n",
       "Freq: D, Name: A, dtype: float64"
      ]
     },
     "execution_count": 97,
     "metadata": {},
     "output_type": "execute_result"
    }
   ],
   "source": [
    "df3['A']"
   ]
  },
  {
   "cell_type": "code",
   "execution_count": 98,
   "metadata": {},
   "outputs": [],
   "source": [
    "df3['NEWCOL'] = ['one', '2', '3', '4', '5', '6']"
   ]
  },
  {
   "cell_type": "code",
   "execution_count": 99,
   "metadata": {},
   "outputs": [
    {
     "data": {
      "text/html": [
       "<div>\n",
       "<style scoped>\n",
       "    .dataframe tbody tr th:only-of-type {\n",
       "        vertical-align: middle;\n",
       "    }\n",
       "\n",
       "    .dataframe tbody tr th {\n",
       "        vertical-align: top;\n",
       "    }\n",
       "\n",
       "    .dataframe thead th {\n",
       "        text-align: right;\n",
       "    }\n",
       "</style>\n",
       "<table border=\"1\" class=\"dataframe\">\n",
       "  <thead>\n",
       "    <tr style=\"text-align: right;\">\n",
       "      <th></th>\n",
       "      <th>A</th>\n",
       "      <th>B</th>\n",
       "      <th>C</th>\n",
       "      <th>D</th>\n",
       "      <th>NEWCOL</th>\n",
       "    </tr>\n",
       "  </thead>\n",
       "  <tbody>\n",
       "    <tr>\n",
       "      <th>2013-01-01</th>\n",
       "      <td>-0.559191</td>\n",
       "      <td>-0.229256</td>\n",
       "      <td>-1.605229</td>\n",
       "      <td>1.006079</td>\n",
       "      <td>one</td>\n",
       "    </tr>\n",
       "    <tr>\n",
       "      <th>2013-01-02</th>\n",
       "      <td>0.469543</td>\n",
       "      <td>-0.070331</td>\n",
       "      <td>-1.618535</td>\n",
       "      <td>0.929587</td>\n",
       "      <td>2</td>\n",
       "    </tr>\n",
       "    <tr>\n",
       "      <th>2013-01-03</th>\n",
       "      <td>-1.352189</td>\n",
       "      <td>-0.716884</td>\n",
       "      <td>-0.073931</td>\n",
       "      <td>0.896680</td>\n",
       "      <td>3</td>\n",
       "    </tr>\n",
       "    <tr>\n",
       "      <th>2013-01-04</th>\n",
       "      <td>-1.000905</td>\n",
       "      <td>0.094369</td>\n",
       "      <td>1.189355</td>\n",
       "      <td>1.245139</td>\n",
       "      <td>4</td>\n",
       "    </tr>\n",
       "    <tr>\n",
       "      <th>2013-01-05</th>\n",
       "      <td>1.073530</td>\n",
       "      <td>-0.788332</td>\n",
       "      <td>-0.088973</td>\n",
       "      <td>-0.236351</td>\n",
       "      <td>5</td>\n",
       "    </tr>\n",
       "    <tr>\n",
       "      <th>2013-01-06</th>\n",
       "      <td>-0.475172</td>\n",
       "      <td>0.280569</td>\n",
       "      <td>-0.460849</td>\n",
       "      <td>3.248667</td>\n",
       "      <td>6</td>\n",
       "    </tr>\n",
       "  </tbody>\n",
       "</table>\n",
       "</div>"
      ],
      "text/plain": [
       "                   A         B         C         D NEWCOL\n",
       "2013-01-01 -0.559191 -0.229256 -1.605229  1.006079    one\n",
       "2013-01-02  0.469543 -0.070331 -1.618535  0.929587      2\n",
       "2013-01-03 -1.352189 -0.716884 -0.073931  0.896680      3\n",
       "2013-01-04 -1.000905  0.094369  1.189355  1.245139      4\n",
       "2013-01-05  1.073530 -0.788332 -0.088973 -0.236351      5\n",
       "2013-01-06 -0.475172  0.280569 -0.460849  3.248667      6"
      ]
     },
     "execution_count": 99,
     "metadata": {},
     "output_type": "execute_result"
    }
   ],
   "source": [
    "df3"
   ]
  },
  {
   "cell_type": "code",
   "execution_count": null,
   "metadata": {},
   "outputs": [],
   "source": []
  },
  {
   "cell_type": "code",
   "execution_count": 100,
   "metadata": {},
   "outputs": [
    {
     "data": {
      "text/html": [
       "<div>\n",
       "<style scoped>\n",
       "    .dataframe tbody tr th:only-of-type {\n",
       "        vertical-align: middle;\n",
       "    }\n",
       "\n",
       "    .dataframe tbody tr th {\n",
       "        vertical-align: top;\n",
       "    }\n",
       "\n",
       "    .dataframe thead th {\n",
       "        text-align: right;\n",
       "    }\n",
       "</style>\n",
       "<table border=\"1\" class=\"dataframe\">\n",
       "  <thead>\n",
       "    <tr style=\"text-align: right;\">\n",
       "      <th></th>\n",
       "      <th>A</th>\n",
       "      <th>B</th>\n",
       "      <th>C</th>\n",
       "      <th>D</th>\n",
       "      <th>NEWCOL</th>\n",
       "    </tr>\n",
       "  </thead>\n",
       "  <tbody>\n",
       "    <tr>\n",
       "      <th>2013-01-02</th>\n",
       "      <td>0.469543</td>\n",
       "      <td>-0.070331</td>\n",
       "      <td>-1.618535</td>\n",
       "      <td>0.929587</td>\n",
       "      <td>2</td>\n",
       "    </tr>\n",
       "  </tbody>\n",
       "</table>\n",
       "</div>"
      ],
      "text/plain": [
       "                   A         B         C         D NEWCOL\n",
       "2013-01-02  0.469543 -0.070331 -1.618535  0.929587      2"
      ]
     },
     "execution_count": 100,
     "metadata": {},
     "output_type": "execute_result"
    }
   ],
   "source": [
    "df3[df3['NEWCOL'].isin(['2'])]"
   ]
  },
  {
   "cell_type": "code",
   "execution_count": 101,
   "metadata": {},
   "outputs": [],
   "source": [
    "s1 =  pd.Series(range(10,70,10), index=pd.date_range('20130102', periods=6))"
   ]
  },
  {
   "cell_type": "code",
   "execution_count": 102,
   "metadata": {},
   "outputs": [
    {
     "data": {
      "text/plain": [
       "2013-01-02    10\n",
       "2013-01-03    20\n",
       "2013-01-04    30\n",
       "2013-01-05    40\n",
       "2013-01-06    50\n",
       "2013-01-07    60\n",
       "Freq: D, dtype: int64"
      ]
     },
     "execution_count": 102,
     "metadata": {},
     "output_type": "execute_result"
    }
   ],
   "source": [
    "s1"
   ]
  },
  {
   "cell_type": "code",
   "execution_count": 103,
   "metadata": {},
   "outputs": [],
   "source": [
    "df3['G']=s1"
   ]
  },
  {
   "cell_type": "code",
   "execution_count": 104,
   "metadata": {},
   "outputs": [
    {
     "data": {
      "text/html": [
       "<div>\n",
       "<style scoped>\n",
       "    .dataframe tbody tr th:only-of-type {\n",
       "        vertical-align: middle;\n",
       "    }\n",
       "\n",
       "    .dataframe tbody tr th {\n",
       "        vertical-align: top;\n",
       "    }\n",
       "\n",
       "    .dataframe thead th {\n",
       "        text-align: right;\n",
       "    }\n",
       "</style>\n",
       "<table border=\"1\" class=\"dataframe\">\n",
       "  <thead>\n",
       "    <tr style=\"text-align: right;\">\n",
       "      <th></th>\n",
       "      <th>A</th>\n",
       "      <th>B</th>\n",
       "      <th>C</th>\n",
       "      <th>D</th>\n",
       "      <th>NEWCOL</th>\n",
       "      <th>G</th>\n",
       "    </tr>\n",
       "  </thead>\n",
       "  <tbody>\n",
       "    <tr>\n",
       "      <th>2013-01-01</th>\n",
       "      <td>-0.559191</td>\n",
       "      <td>-0.229256</td>\n",
       "      <td>-1.605229</td>\n",
       "      <td>1.006079</td>\n",
       "      <td>one</td>\n",
       "      <td>NaN</td>\n",
       "    </tr>\n",
       "    <tr>\n",
       "      <th>2013-01-02</th>\n",
       "      <td>0.469543</td>\n",
       "      <td>-0.070331</td>\n",
       "      <td>-1.618535</td>\n",
       "      <td>0.929587</td>\n",
       "      <td>2</td>\n",
       "      <td>10.0</td>\n",
       "    </tr>\n",
       "    <tr>\n",
       "      <th>2013-01-03</th>\n",
       "      <td>-1.352189</td>\n",
       "      <td>-0.716884</td>\n",
       "      <td>-0.073931</td>\n",
       "      <td>0.896680</td>\n",
       "      <td>3</td>\n",
       "      <td>20.0</td>\n",
       "    </tr>\n",
       "    <tr>\n",
       "      <th>2013-01-04</th>\n",
       "      <td>-1.000905</td>\n",
       "      <td>0.094369</td>\n",
       "      <td>1.189355</td>\n",
       "      <td>1.245139</td>\n",
       "      <td>4</td>\n",
       "      <td>30.0</td>\n",
       "    </tr>\n",
       "    <tr>\n",
       "      <th>2013-01-05</th>\n",
       "      <td>1.073530</td>\n",
       "      <td>-0.788332</td>\n",
       "      <td>-0.088973</td>\n",
       "      <td>-0.236351</td>\n",
       "      <td>5</td>\n",
       "      <td>40.0</td>\n",
       "    </tr>\n",
       "    <tr>\n",
       "      <th>2013-01-06</th>\n",
       "      <td>-0.475172</td>\n",
       "      <td>0.280569</td>\n",
       "      <td>-0.460849</td>\n",
       "      <td>3.248667</td>\n",
       "      <td>6</td>\n",
       "      <td>50.0</td>\n",
       "    </tr>\n",
       "  </tbody>\n",
       "</table>\n",
       "</div>"
      ],
      "text/plain": [
       "                   A         B         C         D NEWCOL     G\n",
       "2013-01-01 -0.559191 -0.229256 -1.605229  1.006079    one   NaN\n",
       "2013-01-02  0.469543 -0.070331 -1.618535  0.929587      2  10.0\n",
       "2013-01-03 -1.352189 -0.716884 -0.073931  0.896680      3  20.0\n",
       "2013-01-04 -1.000905  0.094369  1.189355  1.245139      4  30.0\n",
       "2013-01-05  1.073530 -0.788332 -0.088973 -0.236351      5  40.0\n",
       "2013-01-06 -0.475172  0.280569 -0.460849  3.248667      6  50.0"
      ]
     },
     "execution_count": 104,
     "metadata": {},
     "output_type": "execute_result"
    }
   ],
   "source": [
    "df3"
   ]
  },
  {
   "cell_type": "code",
   "execution_count": 105,
   "metadata": {},
   "outputs": [
    {
     "data": {
      "text/plain": [
       "[1, 2, 3, 4, 5, 6, 7, 8, 9, 10]"
      ]
     },
     "execution_count": 105,
     "metadata": {},
     "output_type": "execute_result"
    }
   ],
   "source": [
    "table2 =list(range(1, 11))\n",
    "table2"
   ]
  },
  {
   "cell_type": "code",
   "execution_count": 106,
   "metadata": {},
   "outputs": [
    {
     "data": {
      "text/plain": [
       "[2, 2, 2, 2, 2, 2, 2, 2, 2, 2]"
      ]
     },
     "execution_count": 106,
     "metadata": {},
     "output_type": "execute_result"
    }
   ],
   "source": [
    "seq2=[2] * 10\n",
    "seq2"
   ]
  },
  {
   "cell_type": "code",
   "execution_count": null,
   "metadata": {},
   "outputs": [],
   "source": [
    " "
   ]
  },
  {
   "cell_type": "code",
   "execution_count": 107,
   "metadata": {},
   "outputs": [
    {
     "data": {
      "text/plain": [
       "[2, 4, 6, 8, 10, 12, 14, 16, 18, 20]"
      ]
     },
     "execution_count": 107,
     "metadata": {},
     "output_type": "execute_result"
    }
   ],
   "source": [
    "[x * 2 for x in table2 ]"
   ]
  },
  {
   "cell_type": "code",
   "execution_count": null,
   "metadata": {},
   "outputs": [],
   "source": []
  },
  {
   "cell_type": "code",
   "execution_count": 108,
   "metadata": {},
   "outputs": [
    {
     "data": {
      "text/plain": [
       "array([2, 2, 2, 2, 2, 2, 2, 2, 2, 2])"
      ]
     },
     "execution_count": 108,
     "metadata": {},
     "output_type": "execute_result"
    }
   ],
   "source": [
    "len(np.array([2] * 10))\n",
    "seq2 = np.array([2] * 10)\n",
    "seq2\n",
    "seq2=np.transpose(seq2)\n",
    "seq2"
   ]
  },
  {
   "cell_type": "code",
   "execution_count": 109,
   "metadata": {},
   "outputs": [
    {
     "data": {
      "text/html": [
       "<div>\n",
       "<style scoped>\n",
       "    .dataframe tbody tr th:only-of-type {\n",
       "        vertical-align: middle;\n",
       "    }\n",
       "\n",
       "    .dataframe tbody tr th {\n",
       "        vertical-align: top;\n",
       "    }\n",
       "\n",
       "    .dataframe thead th {\n",
       "        text-align: right;\n",
       "    }\n",
       "</style>\n",
       "<table border=\"1\" class=\"dataframe\">\n",
       "  <thead>\n",
       "    <tr style=\"text-align: right;\">\n",
       "      <th></th>\n",
       "      <th>0</th>\n",
       "      <th>1</th>\n",
       "    </tr>\n",
       "  </thead>\n",
       "  <tbody>\n",
       "    <tr>\n",
       "      <th>0</th>\n",
       "      <td>1</td>\n",
       "      <td>2</td>\n",
       "    </tr>\n",
       "    <tr>\n",
       "      <th>1</th>\n",
       "      <td>2</td>\n",
       "      <td>4</td>\n",
       "    </tr>\n",
       "    <tr>\n",
       "      <th>2</th>\n",
       "      <td>3</td>\n",
       "      <td>6</td>\n",
       "    </tr>\n",
       "    <tr>\n",
       "      <th>3</th>\n",
       "      <td>4</td>\n",
       "      <td>8</td>\n",
       "    </tr>\n",
       "    <tr>\n",
       "      <th>4</th>\n",
       "      <td>5</td>\n",
       "      <td>10</td>\n",
       "    </tr>\n",
       "    <tr>\n",
       "      <th>5</th>\n",
       "      <td>6</td>\n",
       "      <td>12</td>\n",
       "    </tr>\n",
       "    <tr>\n",
       "      <th>6</th>\n",
       "      <td>7</td>\n",
       "      <td>14</td>\n",
       "    </tr>\n",
       "    <tr>\n",
       "      <th>7</th>\n",
       "      <td>8</td>\n",
       "      <td>16</td>\n",
       "    </tr>\n",
       "    <tr>\n",
       "      <th>8</th>\n",
       "      <td>9</td>\n",
       "      <td>18</td>\n",
       "    </tr>\n",
       "    <tr>\n",
       "      <th>9</th>\n",
       "      <td>10</td>\n",
       "      <td>20</td>\n",
       "    </tr>\n",
       "  </tbody>\n",
       "</table>\n",
       "</div>"
      ],
      "text/plain": [
       "    0   1\n",
       "0   1   2\n",
       "1   2   4\n",
       "2   3   6\n",
       "3   4   8\n",
       "4   5  10\n",
       "5   6  12\n",
       "6   7  14\n",
       "7   8  16\n",
       "8   9  18\n",
       "9  10  20"
      ]
     },
     "execution_count": 109,
     "metadata": {},
     "output_type": "execute_result"
    }
   ],
   "source": [
    "data = pd.DataFrame([ table2, [x * 2 for x in table2 ]])\n",
    "data.T"
   ]
  },
  {
   "cell_type": "code",
   "execution_count": 110,
   "metadata": {},
   "outputs": [
    {
     "data": {
      "text/plain": [
       "<matplotlib.axes._subplots.AxesSubplot at 0xf20c518>"
      ]
     },
     "execution_count": 110,
     "metadata": {},
     "output_type": "execute_result"
    }
   ],
   "source": [
    "import numpy as np\n",
    "import pandas as pd\n",
    "x = np.random.randn(5)\n",
    "y = np.sin(x)\n",
    "df = pd.DataFrame({'x':x, 'y':y})\n",
    "df.plot('x', 'y', kind='scatter')"
   ]
  },
  {
   "cell_type": "code",
   "execution_count": 111,
   "metadata": {},
   "outputs": [
    {
     "data": {
      "text/plain": [
       "array([[ 2,  2,  2,  2,  2,  2,  2,  2,  2,  2],\n",
       "       [ 1,  2,  3,  4,  5,  6,  7,  8,  9, 10],\n",
       "       [ 2,  4,  6,  8, 10, 12, 14, 16, 18, 20]])"
      ]
     },
     "execution_count": 111,
     "metadata": {},
     "output_type": "execute_result"
    }
   ],
   "source": [
    "data = np.array( [[2]*10, table2, [x * 2 for x in table2]])\n",
    "data"
   ]
  },
  {
   "cell_type": "code",
   "execution_count": 112,
   "metadata": {},
   "outputs": [
    {
     "ename": "SyntaxError",
     "evalue": "positional argument follows keyword argument (<ipython-input-112-2a001178cb89>, line 1)",
     "output_type": "error",
     "traceback": [
      "\u001b[1;36m  File \u001b[1;32m\"<ipython-input-112-2a001178cb89>\"\u001b[1;36m, line \u001b[1;32m1\u001b[0m\n\u001b[1;33m    pd.DataFrame(data=data, columns='A', 'B', 'C')\u001b[0m\n\u001b[1;37m                                        ^\u001b[0m\n\u001b[1;31mSyntaxError\u001b[0m\u001b[1;31m:\u001b[0m positional argument follows keyword argument\n"
     ]
    }
   ],
   "source": [
    "pd.DataFrame(data=data, columns='A', 'B', 'C')"
   ]
  },
  {
   "cell_type": "code",
   "execution_count": null,
   "metadata": {},
   "outputs": [],
   "source": [
    "data= data.T\n",
    "data\n",
    "data[1]\n"
   ]
  },
  {
   "cell_type": "code",
   "execution_count": null,
   "metadata": {},
   "outputs": [],
   "source": [
    "d = {\n",
    "    'A': range(1,11),\n",
    "    'B': [2] * 10, \n",
    "    'C': [x * 2 for x in range(1, 11)]\n",
    "}\n",
    "\n",
    "df = pd.DataFrame(data =d )\n",
    "df\n"
   ]
  },
  {
   "cell_type": "code",
   "execution_count": null,
   "metadata": {},
   "outputs": [],
   "source": [
    "df.A"
   ]
  },
  {
   "cell_type": "code",
   "execution_count": null,
   "metadata": {},
   "outputs": [],
   "source": []
  },
  {
   "cell_type": "code",
   "execution_count": 143,
   "metadata": {},
   "outputs": [],
   "source": [
    "import numpy as np\n",
    "import matplotlib.pyplot as plt\n",
    "from matplotlib import style\n",
    "style.use(\"ggplot\")\n",
    "from sklearn import svm"
   ]
  },
  {
   "cell_type": "code",
   "execution_count": 144,
   "metadata": {},
   "outputs": [],
   "source": [
    "from sklearn.model_selection import train_test_split\n",
    "X = np.array([[1,2],\n",
    "             [5,8],\n",
    "             [1.5,1.8],\n",
    "             [8,8],\n",
    "             [1,0.6],\n",
    "             [9,11]])"
   ]
  },
  {
   "cell_type": "code",
   "execution_count": 145,
   "metadata": {},
   "outputs": [],
   "source": [
    "X[1][0]\n",
    "y = [0,1,0,1,0,1]"
   ]
  },
  {
   "cell_type": "code",
   "execution_count": 146,
   "metadata": {},
   "outputs": [
    {
     "data": {
      "text/plain": [
       "SVC(C=1.0, cache_size=200, class_weight=None, coef0=0.0,\n",
       "  decision_function_shape='ovr', degree=3, gamma='auto_deprecated',\n",
       "  kernel='linear', max_iter=-1, probability=False, random_state=None,\n",
       "  shrinking=True, tol=0.001, verbose=False)"
      ]
     },
     "execution_count": 146,
     "metadata": {},
     "output_type": "execute_result"
    }
   ],
   "source": [
    "clf = svm.SVC(kernel='linear', C = 1.0)\n",
    "clf.fit(X,y)\n",
    " "
   ]
  },
  {
   "cell_type": "code",
   "execution_count": 122,
   "metadata": {},
   "outputs": [
    {
     "name": "stdout",
     "output_type": "stream",
     "text": [
      "[0]\n"
     ]
    }
   ],
   "source": [
    "print(clf.predict([[1,2]]))"
   ]
  },
  {
   "cell_type": "code",
   "execution_count": 124,
   "metadata": {},
   "outputs": [
    {
     "name": "stdout",
     "output_type": "stream",
     "text": [
      "[1]\n"
     ]
    }
   ],
   "source": [
    "print(clf.predict([[10.58,10.76]]))\n"
   ]
  },
  {
   "cell_type": "code",
   "execution_count": null,
   "metadata": {},
   "outputs": [],
   "source": [
    "X"
   ]
  },
  {
   "cell_type": "code",
   "execution_count": 162,
   "metadata": {},
   "outputs": [],
   "source": [
    "X = np.array([[2,1,1],\n",
    "             [2,2,1],\n",
    "             [2,3,1 ],\n",
    "             [2,4, 1],\n",
    "             [2,5,1],\n",
    "             [2,6,1],\n",
    "             [2,7,1],\n",
    "             [2,8,1],\n",
    "             [2,9, 1],\n",
    "             [2,10,1]])"
   ]
  },
  {
   "cell_type": "code",
   "execution_count": 160,
   "metadata": {},
   "outputs": [],
   "source": [
    "y =  [2, 4, 6, 8, 10, 12,14,16,18,20]"
   ]
  },
  {
   "cell_type": "code",
   "execution_count": 163,
   "metadata": {},
   "outputs": [
    {
     "data": {
      "text/plain": [
       "SVC(C=1.0, cache_size=200, class_weight=None, coef0=0.0,\n",
       "  decision_function_shape='ovr', degree=3, gamma='auto_deprecated',\n",
       "  kernel='linear', max_iter=-1, probability=False, random_state=None,\n",
       "  shrinking=True, tol=0.001, verbose=False)"
      ]
     },
     "execution_count": 163,
     "metadata": {},
     "output_type": "execute_result"
    }
   ],
   "source": [
    "clf.fit(X,y)"
   ]
  },
  {
   "cell_type": "code",
   "execution_count": 164,
   "metadata": {},
   "outputs": [
    {
     "data": {
      "text/plain": [
       "array([ 2,  4,  6,  8, 10, 12, 14, 16, 18, 20])"
      ]
     },
     "execution_count": 164,
     "metadata": {},
     "output_type": "execute_result"
    }
   ],
   "source": [
    "clf.predict(X)"
   ]
  },
  {
   "cell_type": "code",
   "execution_count": 156,
   "metadata": {},
   "outputs": [
    {
     "name": "stdout",
     "output_type": "stream",
     "text": [
      "[ 0. -1.]\n"
     ]
    },
    {
     "data": {
      "image/png": "[encoded data removed]",
      "text/plain": [
       "<Figure size 432x288 with 1 Axes>"
      ]
     },
     "metadata": {},
     "output_type": "display_data"
    }
   ],
   "source": [
    "w = clf.coef_[0]\n",
    "print(w)\n",
    "\n",
    "a = -w[0] / w[1]\n",
    "\n",
    "xx = np.linspace(0,12)\n",
    "yy = a * xx - clf.intercept_[0] / w[1]\n",
    "\n",
    "h0 = plt.plot(xx, yy, 'k-', label=\"non weighted div\")\n",
    "\n",
    "plt.scatter(X[:, 0], X[:, 1], c = y)\n",
    "plt.legend()\n",
    "plt.show()"
   ]
  },
  {
   "cell_type": "code",
   "execution_count": 157,
   "metadata": {},
   "outputs": [],
   "source": [
    "w = clf.coef_[0]"
   ]
  },
  {
   "cell_type": "code",
   "execution_count": 158,
   "metadata": {},
   "outputs": [
    {
     "data": {
      "text/plain": [
       "array([ 0., -1.])"
      ]
     },
     "execution_count": 158,
     "metadata": {},
     "output_type": "execute_result"
    }
   ],
   "source": [
    "w"
   ]
  },
  {
   "cell_type": "code",
   "execution_count": 192,
   "metadata": {},
   "outputs": [
    {
     "data": {
      "text/plain": [
       "['SUDEEP', 'manasvi', 'rajesh']"
      ]
     },
     "execution_count": 192,
     "metadata": {},
     "output_type": "execute_result"
    }
   ],
   "source": [
    "    X = [\"SUDEEP\", 'manasvi', \"rajesh\"]\n",
    "    X"
   ]
  },
  {
   "cell_type": "code",
   "execution_count": 186,
   "metadata": {},
   "outputs": [],
   "source": [
    "from sklearn.feature_extraction.text import CountVectorizer\n",
    "count_vect = CountVectorizer()\n"
   ]
  },
  {
   "cell_type": "code",
   "execution_count": 195,
   "metadata": {},
   "outputs": [
    {
     "data": {
      "text/plain": [
       "(3, 3)"
      ]
     },
     "execution_count": 195,
     "metadata": {},
     "output_type": "execute_result"
    }
   ],
   "source": [
    "X_train_counts = count_vect.fit_transform(X)\n",
    "X_train_counts.shape"
   ]
  },
  {
   "cell_type": "code",
   "execution_count": 212,
   "metadata": {},
   "outputs": [],
   "source": [
    "from sklearn.feature_extraction.text import TfidfTransformer\n",
    "tfidf_transformer = TfidfTransformer()\n",
    "X_train_tfidf = tfidf_transformer.fit_transform(X_train_counts)\n",
    "X_train_tfidf.shape\n",
    "target =['Ratlam','indore', 'ujjain']"
   ]
  },
  {
   "cell_type": "code",
   "execution_count": 213,
   "metadata": {},
   "outputs": [],
   "source": [
    "from sklearn.naive_bayes import MultinomialNB\n",
    "clf = MultinomialNB().fit(X_train_tfidf,target )"
   ]
  },
  {
   "cell_type": "code",
   "execution_count": 214,
   "metadata": {},
   "outputs": [
    {
     "name": "stderr",
     "output_type": "stream",
     "text": [
      "C:\\Users\\sudpatel\\AppData\\Local\\Continuum\\anaconda3\\lib\\site-packages\\sklearn\\utils\\validation.py:563: FutureWarning: Beginning in version 0.22, arrays of bytes/strings will be converted to decimal numbers if dtype='numeric'. It is recommended that you convert the array to a float dtype before using it in scikit-learn, for example by using your_array = your_array.astype(np.float64).\n",
      "  FutureWarning)\n"
     ]
    },
    {
     "ename": "TypeError",
     "evalue": "Cannot cast array data from dtype('float64') to dtype('<U32') according to the rule 'safe'",
     "output_type": "error",
     "traceback": [
      "\u001b[1;31m---------------------------------------------------------------------------\u001b[0m",
      "\u001b[1;31mTypeError\u001b[0m                                 Traceback (most recent call last)",
      "\u001b[1;32m<ipython-input-214-5cf1feeddbd4>\u001b[0m in \u001b[0;36m<module>\u001b[1;34m\u001b[0m\n\u001b[0;32m      1\u001b[0m \u001b[1;32mimport\u001b[0m \u001b[0mnumpy\u001b[0m \u001b[1;32mas\u001b[0m \u001b[0mnp\u001b[0m\u001b[1;33m\u001b[0m\u001b[1;33m\u001b[0m\u001b[0m\n\u001b[0;32m      2\u001b[0m \u001b[0mtwenty_test\u001b[0m \u001b[1;33m=\u001b[0m \u001b[1;33m[\u001b[0m\u001b[1;33m[\u001b[0m\u001b[1;34m'sudeep'\u001b[0m\u001b[1;33m]\u001b[0m\u001b[1;33m]\u001b[0m\u001b[1;33m\u001b[0m\u001b[1;33m\u001b[0m\u001b[0m\n\u001b[1;32m----> 3\u001b[1;33m \u001b[0mpredicted\u001b[0m \u001b[1;33m=\u001b[0m \u001b[0mclf\u001b[0m\u001b[1;33m.\u001b[0m\u001b[0mpredict\u001b[0m\u001b[1;33m(\u001b[0m\u001b[0mtwenty_test\u001b[0m\u001b[1;33m)\u001b[0m\u001b[1;33m\u001b[0m\u001b[1;33m\u001b[0m\u001b[0m\n\u001b[0m\u001b[0;32m      4\u001b[0m \u001b[1;31m# np.mean(predicted == target)\u001b[0m\u001b[1;33m\u001b[0m\u001b[1;33m\u001b[0m\u001b[1;33m\u001b[0m\u001b[0m\n",
      "\u001b[1;32m~\\AppData\\Local\\Continuum\\anaconda3\\lib\\site-packages\\sklearn\\naive_bayes.py\u001b[0m in \u001b[0;36mpredict\u001b[1;34m(self, X)\u001b[0m\n\u001b[0;32m     64\u001b[0m             \u001b[0mPredicted\u001b[0m \u001b[0mtarget\u001b[0m \u001b[0mvalues\u001b[0m \u001b[1;32mfor\u001b[0m \u001b[0mX\u001b[0m\u001b[1;33m\u001b[0m\u001b[1;33m\u001b[0m\u001b[0m\n\u001b[0;32m     65\u001b[0m         \"\"\"\n\u001b[1;32m---> 66\u001b[1;33m         \u001b[0mjll\u001b[0m \u001b[1;33m=\u001b[0m \u001b[0mself\u001b[0m\u001b[1;33m.\u001b[0m\u001b[0m_joint_log_likelihood\u001b[0m\u001b[1;33m(\u001b[0m\u001b[0mX\u001b[0m\u001b[1;33m)\u001b[0m\u001b[1;33m\u001b[0m\u001b[1;33m\u001b[0m\u001b[0m\n\u001b[0m\u001b[0;32m     67\u001b[0m         \u001b[1;32mreturn\u001b[0m \u001b[0mself\u001b[0m\u001b[1;33m.\u001b[0m\u001b[0mclasses_\u001b[0m\u001b[1;33m[\u001b[0m\u001b[0mnp\u001b[0m\u001b[1;33m.\u001b[0m\u001b[0margmax\u001b[0m\u001b[1;33m(\u001b[0m\u001b[0mjll\u001b[0m\u001b[1;33m,\u001b[0m \u001b[0maxis\u001b[0m\u001b[1;33m=\u001b[0m\u001b[1;36m1\u001b[0m\u001b[1;33m)\u001b[0m\u001b[1;33m]\u001b[0m\u001b[1;33m\u001b[0m\u001b[1;33m\u001b[0m\u001b[0m\n\u001b[0;32m     68\u001b[0m \u001b[1;33m\u001b[0m\u001b[0m\n",
      "\u001b[1;32m~\\AppData\\Local\\Continuum\\anaconda3\\lib\\site-packages\\sklearn\\naive_bayes.py\u001b[0m in \u001b[0;36m_joint_log_likelihood\u001b[1;34m(self, X)\u001b[0m\n\u001b[0;32m    729\u001b[0m \u001b[1;33m\u001b[0m\u001b[0m\n\u001b[0;32m    730\u001b[0m         \u001b[0mX\u001b[0m \u001b[1;33m=\u001b[0m \u001b[0mcheck_array\u001b[0m\u001b[1;33m(\u001b[0m\u001b[0mX\u001b[0m\u001b[1;33m,\u001b[0m \u001b[0maccept_sparse\u001b[0m\u001b[1;33m=\u001b[0m\u001b[1;34m'csr'\u001b[0m\u001b[1;33m)\u001b[0m\u001b[1;33m\u001b[0m\u001b[1;33m\u001b[0m\u001b[0m\n\u001b[1;32m--> 731\u001b[1;33m         return (safe_sparse_dot(X, self.feature_log_prob_.T) +\n\u001b[0m\u001b[0;32m    732\u001b[0m                 self.class_log_prior_)\n\u001b[0;32m    733\u001b[0m \u001b[1;33m\u001b[0m\u001b[0m\n",
      "\u001b[1;32m~\\AppData\\Local\\Continuum\\anaconda3\\lib\\site-packages\\sklearn\\utils\\extmath.py\u001b[0m in \u001b[0;36msafe_sparse_dot\u001b[1;34m(a, b, dense_output)\u001b[0m\n\u001b[0;32m    171\u001b[0m         \u001b[1;32mreturn\u001b[0m \u001b[0mret\u001b[0m\u001b[1;33m\u001b[0m\u001b[1;33m\u001b[0m\u001b[0m\n\u001b[0;32m    172\u001b[0m     \u001b[1;32melse\u001b[0m\u001b[1;33m:\u001b[0m\u001b[1;33m\u001b[0m\u001b[1;33m\u001b[0m\u001b[0m\n\u001b[1;32m--> 173\u001b[1;33m         \u001b[1;32mreturn\u001b[0m \u001b[0mnp\u001b[0m\u001b[1;33m.\u001b[0m\u001b[0mdot\u001b[0m\u001b[1;33m(\u001b[0m\u001b[0ma\u001b[0m\u001b[1;33m,\u001b[0m \u001b[0mb\u001b[0m\u001b[1;33m)\u001b[0m\u001b[1;33m\u001b[0m\u001b[1;33m\u001b[0m\u001b[0m\n\u001b[0m\u001b[0;32m    174\u001b[0m \u001b[1;33m\u001b[0m\u001b[0m\n\u001b[0;32m    175\u001b[0m \u001b[1;33m\u001b[0m\u001b[0m\n",
      "\u001b[1;31mTypeError\u001b[0m: Cannot cast array data from dtype('float64') to dtype('<U32') according to the rule 'safe'"
     ]
    }
   ],
   "source": [
    "import numpy as np\n",
    "twenty_test = [['sudeep']]\n",
    "predicted = clf.predict(twenty_test)\n",
    "# np.mean(predicted == target)"
   ]
  },
  {
   "cell_type": "code",
   "execution_count": null,
   "metadata": {},
   "outputs": [],
   "source": []
  }
 ],
 "metadata": {
  "kernelspec": {
   "display_name": "Python 3",
   "language": "python",
   "name": "python3"
  },
  "language_info": {
   "codemirror_mode": {
    "name": "ipython",
    "version": 3
   },
   "file_extension": ".py",
   "mimetype": "text/x-python",
   "name": "python",
   "nbconvert_exporter": "python",
   "pygments_lexer": "ipython3",
   "version": "3.7.1"
  }
 },
 "nbformat": 4,
 "nbformat_minor": 2
}
